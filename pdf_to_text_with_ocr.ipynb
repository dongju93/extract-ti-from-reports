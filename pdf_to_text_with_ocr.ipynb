{
 "cells": [
  {
   "cell_type": "code",
   "execution_count": null,
   "metadata": {},
   "outputs": [],
   "source": [
    "import os\n",
    "from pdfminer.layout import LTTextBox, LTImage\n",
    "from pdfminer.high_level import extract_pages\n",
    "from pdfminer.image import ImageWriter\n",
    "import pytesseract"
   ]
  },
  {
   "cell_type": "code",
   "execution_count": null,
   "metadata": {},
   "outputs": [],
   "source": [
    "# mac 2015-2022 path\n",
    "pdfPath = '/Users/dong-ju/Documents/My_code/ttp_autogpt/python_ground/pdf/2015-2022_pdf/'\n",
    "txtPath = '/Users/dong-ju/Documents/My_code/ttp_autogpt/python_ground/text/2015-2022_ocr/'"
   ]
  },
  {
   "cell_type": "code",
   "execution_count": null,
   "metadata": {},
   "outputs": [],
   "source": [
    "def extract_all_text_from_pdf(pdf_path):\n",
    "    all_texts = []\n",
    "    \n",
    "        for page_layout in extract_pages(pdf_path):\n",
    "        for element in page_layout:\n",
    "            if isinstance(element, LTTextBox):\n",
    "                all_texts.append(element.get_text())\n",
    "            elif isinstance(element, ImageWriter):\n",
    "                image = element.image\n",
    "                text = pytesseract.image_to_string(image)\n",
    "                all_texts.append(text)\n",
    "                \n",
    "    return \"\\n\".join(all_texts)"
   ]
  },
  {
   "cell_type": "code",
   "execution_count": null,
   "metadata": {},
   "outputs": [],
   "source": [
    "def process_and_save_all_pdfs(source_directory, output_directory):\n",
    "    if not os.path.exists(output_directory):\n",
    "        os.makedirs(output_directory)\n",
    "\n",
    "    all_files = os.listdir(source_directory)    \n",
    "    pdf_files = [f for f in all_files if f.endswith('.pdf')]\n",
    "    \n",
    "    for pdf_file in pdf_files:\n",
    "        pdf_path = os.path.join(source_directory, pdf_file)\n",
    "        extracted_text = extract_all_text_from_pdf(pdf_path)\n",
    "        output_filename = os.path.splitext(pdf_file)[0] + '.txt'\n",
    "        output_path = os.path.join(output_directory, output_filename)\n",
    "        \n",
    "        with open(output_path, 'w', encoding='utf-8') as txt_file:\n",
    "            txt_file.write(extracted_text)"
   ]
  },
  {
   "cell_type": "code",
   "execution_count": null,
   "metadata": {},
   "outputs": [],
   "source": [
    "process_and_save_all_pdfs(pdfPath, txtPath)\n"
   ]
  }
 ],
 "metadata": {
  "kernelspec": {
   "display_name": "Python 3",
   "language": "python",
   "name": "python3"
  },
  "language_info": {
   "codemirror_mode": {
    "name": "ipython",
    "version": 3
   },
   "file_extension": ".py",
   "mimetype": "text/x-python",
   "name": "python",
   "nbconvert_exporter": "python",
   "pygments_lexer": "ipython3",
   "version": "3.11.3"
  },
  "orig_nbformat": 4
 },
 "nbformat": 4,
 "nbformat_minor": 2
}

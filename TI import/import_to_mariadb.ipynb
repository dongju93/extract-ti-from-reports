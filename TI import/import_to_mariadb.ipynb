{
 "cells": [
  {
   "cell_type": "code",
   "execution_count": 28,
   "metadata": {},
   "outputs": [],
   "source": [
    "import json\n",
    "import mariadb\n",
    "from datetime import datetime"
   ]
  },
  {
   "cell_type": "code",
   "execution_count": 29,
   "metadata": {},
   "outputs": [],
   "source": [
    "conn = mariadb.connect(\n",
    "    database=\"db_einsis_mng\",\n",
    "    user=\"einsis\",\n",
    "    password=\"einsis!@\",\n",
    "    host=\"172.30.1.203\",\n",
    "    port=3306,\n",
    ")\n",
    "cursor = conn.cursor()"
   ]
  },
  {
   "cell_type": "code",
   "execution_count": 30,
   "metadata": {},
   "outputs": [],
   "source": [
    "with open('output/jayden/rename.json', 'r') as file:\n",
    "    data = json.load(file)"
   ]
  },
  {
   "cell_type": "code",
   "execution_count": 31,
   "metadata": {},
   "outputs": [],
   "source": [
    "for item in data:\n",
    "    insert_query = \"\"\"\n",
    "    INSERT INTO es_ti_main (ti_no, ti_area, rule_id, ti_nm, site_tp, ti_desc, ti_ref, ti_smp, ti_sgn, del_yn, ti_type, ti_applied, reg_user_id, reg_dt)\n",
    "    VALUES (%s, %s, %s, %s, %s, %s, %s, %s, %s, %s, %s, %s, %s, %s)\n",
    "    \"\"\"\n",
    "\n",
    "    reg_dt_value = item[\"reg_dt\"] if item[\"reg_dt\"] else datetime.now().strftime(\"%Y-%m-%d %H:%M:%S\")\n",
    "\n",
    "\n",
    "    values = (\n",
    "        item[\"ti_no\"],\n",
    "        item[\"ti_area\"],\n",
    "        item[\"rule_id\"],\n",
    "        item[\"ti_nm\"],\n",
    "        item[\"site_tp\"],\n",
    "        item[\"ti_desc\"],\n",
    "        \",\".join(item[\"ti_ref\"]) if item[\"ti_ref\"] else \"\",  # Convert list to string\n",
    "        item[\"ti_smp\"],\n",
    "        \",\".join(item[\"ti_sgn\"]) if item[\"ti_sgn\"] else \"\",  # Convert list to string\n",
    "        item[\"del_yn\"],\n",
    "        \",\".join(item[\"ti_type\"]) if item[\"ti_type\"] else \"\",  # Convert list to string\n",
    "        item[\"ti_applied\"],\n",
    "        item[\"reg_user_id\"],\n",
    "        reg_dt_value,  # Handle empty datetime\n",
    "    )\n",
    "\n",
    "    try:\n",
    "        cursor.execute(insert_query, values)\n",
    "    except mariadb.Error as e:\n",
    "        print(f\"Error: {e}\")"
   ]
  },
  {
   "cell_type": "code",
   "execution_count": 32,
   "metadata": {},
   "outputs": [],
   "source": [
    "conn.commit() "
   ]
  },
  {
   "cell_type": "code",
   "execution_count": 33,
   "metadata": {},
   "outputs": [],
   "source": [
    "conn.close()"
   ]
  }
 ],
 "metadata": {
  "kernelspec": {
   "display_name": "Python 3",
   "language": "python",
   "name": "python3"
  },
  "language_info": {
   "codemirror_mode": {
    "name": "ipython",
    "version": 3
   },
   "file_extension": ".py",
   "mimetype": "text/x-python",
   "name": "python",
   "nbconvert_exporter": "python",
   "pygments_lexer": "ipython3",
   "version": "3.12.0"
  }
 },
 "nbformat": 4,
 "nbformat_minor": 2
}

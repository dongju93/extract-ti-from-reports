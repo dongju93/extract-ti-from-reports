{
 "cells": [
  {
   "cell_type": "code",
   "execution_count": null,
   "metadata": {},
   "outputs": [],
   "source": [
    "import os\n",
    "import json\n",
    "import pandas as pd"
   ]
  },
  {
   "cell_type": "code",
   "execution_count": null,
   "metadata": {},
   "outputs": [],
   "source": [
    "# mac 2015-2022 path\n",
    "# directory_path = '/Users/dong-ju/Documents/My_code/ttp_autogpt/python_ground/output/2015-2022'\n",
    "# output_path = '/Users/dong-ju/Documents/My_code/ttp_autogpt/python_ground/output/urls.xlsx'\n",
    "\n",
    "directory_path = 'C:/Users/spdlq/Documents/my_code/ttp_autogpt/python_ground/output/2015-2022'\n",
    "output_path = 'C:/Users/spdlq/Documents/my_code/ttp_autogpt/python_ground/output/urls.xlsx'"
   ]
  },
  {
   "cell_type": "code",
   "execution_count": null,
   "metadata": {},
   "outputs": [],
   "source": [
    "def merge_json_files_into_dataframe(directory_path):\n",
    "    all_files = os.listdir(directory_path)\n",
    "    json_files = [f for f in all_files if f.endswith('.json')]\n",
    "    \n",
    "    merged_df = pd.DataFrame()\n",
    "    \n",
    "    for json_file in json_files:\n",
    "        file_path = os.path.join(directory_path, json_file)\n",
    "        with open(file_path, \"r\", encoding=\"utf-8\") as file:\n",
    "            data = json.load(file)\n",
    "            # json field name\n",
    "            if \"URLs\" in data:\n",
    "                temp_df = pd.DataFrame(data[\"URLs\"], columns=[\"URLs\"])\n",
    "                merged_df = pd.concat([merged_df, temp_df], axis=0)\n",
    "    \n",
    "    merged_df.reset_index(drop=True, inplace=True)\n",
    "    return merged_df"
   ]
  },
  {
   "cell_type": "code",
   "execution_count": null,
   "metadata": {},
   "outputs": [],
   "source": [
    "merged_dataframe = merge_json_files_into_dataframe(directory_path)\n",
    "# File extension extract\n",
    "# merged_dataframe['Extension'] = merged_dataframe['File_Names'].str.extract(r'(\\.\\w+)$')\n",
    "# merged_dataframe['Extension'] = merged_dataframe['Extension'].str.lower()\n",
    "\n",
    "# Domain extract\n",
    "merged_dataframe['Domain'] = merged_dataframe['URLs'].str.extract(r'https?://([^/]+)')\n",
    "merged_dataframe.head()  # Displaying the first few rows of the merged DataFrame"
   ]
  },
  {
   "cell_type": "code",
   "execution_count": null,
   "metadata": {},
   "outputs": [],
   "source": [
    "extension_stats = merged_dataframe['Domain'].value_counts().reset_index()\n",
    "extension_stats.columns = ['Domain', 'Count']\n",
    "extension_stats.head()"
   ]
  },
  {
   "cell_type": "code",
   "execution_count": null,
   "metadata": {},
   "outputs": [],
   "source": [
    "with pd.ExcelWriter(output_path) as writer:\n",
    "    merged_dataframe.to_excel(writer, sheet_name='dataframe', index=False)\n",
    "    extension_stats.to_excel(writer, sheet_name='stats', index=False)"
   ]
  }
 ],
 "metadata": {
  "kernelspec": {
   "display_name": "Python 3",
   "language": "python",
   "name": "python3"
  },
  "language_info": {
   "codemirror_mode": {
    "name": "ipython",
    "version": 3
   },
   "file_extension": ".py",
   "mimetype": "text/x-python",
   "name": "python",
   "nbconvert_exporter": "python",
   "pygments_lexer": "ipython3",
   "version": "3.11.4"
  },
  "orig_nbformat": 4
 },
 "nbformat": 4,
 "nbformat_minor": 2
}

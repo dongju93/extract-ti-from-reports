{
 "cells": [
  {
   "cell_type": "code",
   "execution_count": 21,
   "metadata": {},
   "outputs": [],
   "source": [
    "import os\n",
    "import json\n",
    "import pandas as pd\n",
    "from env import *"
   ]
  },
  {
   "cell_type": "code",
   "execution_count": 22,
   "metadata": {},
   "outputs": [],
   "source": [
    "directory_path = json_path\n",
    "output_path = xlsx_path+'urls.xlsx'"
   ]
  },
  {
   "cell_type": "code",
   "execution_count": 23,
   "metadata": {},
   "outputs": [],
   "source": [
    "def merge_json_files_into_dataframe(directory_path):\n",
    "    all_files = os.listdir(directory_path)\n",
    "    json_files = [f for f in all_files if f.endswith('.json')]\n",
    "    \n",
    "    merged_df = pd.DataFrame()\n",
    "    \n",
    "    for json_file in json_files:\n",
    "        file_path = os.path.join(directory_path, json_file)\n",
    "        with open(file_path, \"r\", encoding=\"utf-8\") as file:\n",
    "            data = json.load(file)\n",
    "            # json field name\n",
    "            if \"URLs\" in data:\n",
    "                temp_df = pd.DataFrame(data[\"URLs\"], columns=[\"URLs\"])\n",
    "                merged_df = pd.concat([merged_df, temp_df], axis=0)\n",
    "    \n",
    "    merged_df.reset_index(drop=True, inplace=True)\n",
    "    return merged_df"
   ]
  },
  {
   "cell_type": "code",
   "execution_count": 24,
   "metadata": {},
   "outputs": [
    {
     "data": {
      "text/html": [
       "<div>\n",
       "<style scoped>\n",
       "    .dataframe tbody tr th:only-of-type {\n",
       "        vertical-align: middle;\n",
       "    }\n",
       "\n",
       "    .dataframe tbody tr th {\n",
       "        vertical-align: top;\n",
       "    }\n",
       "\n",
       "    .dataframe thead th {\n",
       "        text-align: right;\n",
       "    }\n",
       "</style>\n",
       "<table border=\"1\" class=\"dataframe\">\n",
       "  <thead>\n",
       "    <tr style=\"text-align: right;\">\n",
       "      <th></th>\n",
       "      <th>URLs</th>\n",
       "      <th>Domain</th>\n",
       "    </tr>\n",
       "  </thead>\n",
       "  <tbody>\n",
       "    <tr>\n",
       "      <th>0</th>\n",
       "      <td>https://portal.msrc.microsoft.com/en-us/securi...</td>\n",
       "      <td>portal.msrc.microsoft.com</td>\n",
       "    </tr>\n",
       "    <tr>\n",
       "      <th>1</th>\n",
       "      <td>https://threatrecon.nshc.net/2019/04/30/sector...</td>\n",
       "      <td>threatrecon.nshc.net</td>\n",
       "    </tr>\n",
       "    <tr>\n",
       "      <th>2</th>\n",
       "      <td>https://docs.microsoft.com/en-us/windows/deskt...</td>\n",
       "      <td>docs.microsoft.com</td>\n",
       "    </tr>\n",
       "    <tr>\n",
       "      <th>3</th>\n",
       "      <td>https://www.cvedetails.com/vulnerability-list/...</td>\n",
       "      <td>www.cvedetails.com</td>\n",
       "    </tr>\n",
       "    <tr>\n",
       "      <th>4</th>\n",
       "      <td>https://blog.trendmicro.com/trendlabs-security...</td>\n",
       "      <td>blog.trendmicro.com</td>\n",
       "    </tr>\n",
       "  </tbody>\n",
       "</table>\n",
       "</div>"
      ],
      "text/plain": [
       "                                                URLs  \\\n",
       "0  https://portal.msrc.microsoft.com/en-us/securi...   \n",
       "1  https://threatrecon.nshc.net/2019/04/30/sector...   \n",
       "2  https://docs.microsoft.com/en-us/windows/deskt...   \n",
       "3  https://www.cvedetails.com/vulnerability-list/...   \n",
       "4  https://blog.trendmicro.com/trendlabs-security...   \n",
       "\n",
       "                      Domain  \n",
       "0  portal.msrc.microsoft.com  \n",
       "1       threatrecon.nshc.net  \n",
       "2         docs.microsoft.com  \n",
       "3         www.cvedetails.com  \n",
       "4        blog.trendmicro.com  "
      ]
     },
     "execution_count": 24,
     "metadata": {},
     "output_type": "execute_result"
    }
   ],
   "source": [
    "merged_dataframe = merge_json_files_into_dataframe(directory_path)\n",
    "# File extension extract\n",
    "# merged_dataframe['Extension'] = merged_dataframe['File_Names'].str.extract(r'(\\.\\w+)$')\n",
    "# merged_dataframe['Extension'] = merged_dataframe['Extension'].str.lower()\n",
    "\n",
    "# Domain extract\n",
    "merged_dataframe['Domain'] = merged_dataframe['URLs'].str.extract(r'https?://([^/]+)')\n",
    "merged_dataframe.head()  # Displaying the first few rows of the merged DataFrame"
   ]
  },
  {
   "cell_type": "code",
   "execution_count": 25,
   "metadata": {},
   "outputs": [
    {
     "data": {
      "text/html": [
       "<div>\n",
       "<style scoped>\n",
       "    .dataframe tbody tr th:only-of-type {\n",
       "        vertical-align: middle;\n",
       "    }\n",
       "\n",
       "    .dataframe tbody tr th {\n",
       "        vertical-align: top;\n",
       "    }\n",
       "\n",
       "    .dataframe thead th {\n",
       "        text-align: right;\n",
       "    }\n",
       "</style>\n",
       "<table border=\"1\" class=\"dataframe\">\n",
       "  <thead>\n",
       "    <tr style=\"text-align: right;\">\n",
       "      <th></th>\n",
       "      <th>Domain</th>\n",
       "      <th>Count</th>\n",
       "    </tr>\n",
       "  </thead>\n",
       "  <tbody>\n",
       "    <tr>\n",
       "      <th>0</th>\n",
       "      <td>twitter.com</td>\n",
       "      <td>120</td>\n",
       "    </tr>\n",
       "    <tr>\n",
       "      <th>1</th>\n",
       "      <td>www.clearskysec.com</td>\n",
       "      <td>105</td>\n",
       "    </tr>\n",
       "    <tr>\n",
       "      <th>2</th>\n",
       "      <td>www.fireeye.com</td>\n",
       "      <td>103</td>\n",
       "    </tr>\n",
       "    <tr>\n",
       "      <th>3</th>\n",
       "      <td>unit42.paloaltonetworks.com</td>\n",
       "      <td>103</td>\n",
       "    </tr>\n",
       "    <tr>\n",
       "      <th>4</th>\n",
       "      <td>blog.trendmicro.com</td>\n",
       "      <td>94</td>\n",
       "    </tr>\n",
       "  </tbody>\n",
       "</table>\n",
       "</div>"
      ],
      "text/plain": [
       "                        Domain  Count\n",
       "0                  twitter.com    120\n",
       "1          www.clearskysec.com    105\n",
       "2              www.fireeye.com    103\n",
       "3  unit42.paloaltonetworks.com    103\n",
       "4          blog.trendmicro.com     94"
      ]
     },
     "execution_count": 25,
     "metadata": {},
     "output_type": "execute_result"
    }
   ],
   "source": [
    "extension_stats = merged_dataframe['Domain'].value_counts().reset_index()\n",
    "extension_stats.columns = ['Domain', 'Count']\n",
    "extension_stats.head()"
   ]
  },
  {
   "cell_type": "code",
   "execution_count": 26,
   "metadata": {},
   "outputs": [],
   "source": [
    "with pd.ExcelWriter(output_path) as writer:\n",
    "    merged_dataframe.to_excel(writer, sheet_name='dataframe', index=False)\n",
    "    extension_stats.to_excel(writer, sheet_name='stats', index=False)"
   ]
  }
 ],
 "metadata": {
  "kernelspec": {
   "display_name": "Python 3",
   "language": "python",
   "name": "python3"
  },
  "language_info": {
   "codemirror_mode": {
    "name": "ipython",
    "version": 3
   },
   "file_extension": ".py",
   "mimetype": "text/x-python",
   "name": "python",
   "nbconvert_exporter": "python",
   "pygments_lexer": "ipython3",
   "version": "3.11.3"
  },
  "orig_nbformat": 4
 },
 "nbformat": 4,
 "nbformat_minor": 2
}

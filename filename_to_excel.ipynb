{
 "cells": [
  {
   "cell_type": "code",
   "execution_count": 1,
   "metadata": {},
   "outputs": [],
   "source": [
    "import os\n",
    "import json\n",
    "import pandas as pd"
   ]
  },
  {
   "cell_type": "code",
   "execution_count": 2,
   "metadata": {},
   "outputs": [],
   "source": [
    "# mac 2015-2022 path\n",
    "directory_path = '/Users/dong-ju/Documents/My_code/ttp_autogpt/python_ground/output/2015-2022'\n",
    "output_path = '/Users/dong-ju/Documents/My_code/ttp_autogpt/python_ground/output/filename.xlsx'\n"
   ]
  },
  {
   "cell_type": "code",
   "execution_count": 3,
   "metadata": {},
   "outputs": [],
   "source": [
    "def merge_json_files_into_dataframe(directory_path):\n",
    "    # List all JSON files in the specified directory\n",
    "    all_files = os.listdir(directory_path)\n",
    "    json_files = [f for f in all_files if f.endswith('.json')]\n",
    "    \n",
    "    # Initialize an empty DataFrame\n",
    "    merged_df = pd.DataFrame()\n",
    "    \n",
    "    # Iterate through each JSON file and merge the data\n",
    "    for json_file in json_files:\n",
    "        file_path = os.path.join(directory_path, json_file)\n",
    "        with open(file_path, \"r\", encoding=\"utf-8\") as file:\n",
    "            data = json.load(file)\n",
    "            if \"File_Names\" in data:\n",
    "                temp_df = pd.DataFrame(data[\"File_Names\"], columns=[\"File_Names\"])\n",
    "                merged_df = pd.concat([merged_df, temp_df], axis=0)\n",
    "    \n",
    "    # Reset index of the merged DataFrame\n",
    "    merged_df.reset_index(drop=True, inplace=True)\n",
    "    return merged_df"
   ]
  },
  {
   "cell_type": "code",
   "execution_count": 4,
   "metadata": {},
   "outputs": [
    {
     "data": {
      "text/html": [
       "<div>\n",
       "<style scoped>\n",
       "    .dataframe tbody tr th:only-of-type {\n",
       "        vertical-align: middle;\n",
       "    }\n",
       "\n",
       "    .dataframe tbody tr th {\n",
       "        vertical-align: top;\n",
       "    }\n",
       "\n",
       "    .dataframe thead th {\n",
       "        text-align: right;\n",
       "    }\n",
       "</style>\n",
       "<table border=\"1\" class=\"dataframe\">\n",
       "  <thead>\n",
       "    <tr style=\"text-align: right;\">\n",
       "      <th></th>\n",
       "      <th>File_Names</th>\n",
       "      <th>Extension</th>\n",
       "    </tr>\n",
       "  </thead>\n",
       "  <tbody>\n",
       "    <tr>\n",
       "      <th>0</th>\n",
       "      <td>User32.dll</td>\n",
       "      <td>.dll</td>\n",
       "    </tr>\n",
       "    <tr>\n",
       "      <th>1</th>\n",
       "      <td>Gdi32.dll</td>\n",
       "      <td>.dll</td>\n",
       "    </tr>\n",
       "    <tr>\n",
       "      <th>2</th>\n",
       "      <td>INTELGRAPHICSCONTROLLER.EXE</td>\n",
       "      <td>.exe</td>\n",
       "    </tr>\n",
       "    <tr>\n",
       "      <th>3</th>\n",
       "      <td>eqnedt32.exe</td>\n",
       "      <td>.exe</td>\n",
       "    </tr>\n",
       "    <tr>\n",
       "      <th>4</th>\n",
       "      <td>troller.exe</td>\n",
       "      <td>.exe</td>\n",
       "    </tr>\n",
       "  </tbody>\n",
       "</table>\n",
       "</div>"
      ],
      "text/plain": [
       "                    File_Names Extension\n",
       "0                   User32.dll      .dll\n",
       "1                    Gdi32.dll      .dll\n",
       "2  INTELGRAPHICSCONTROLLER.EXE      .exe\n",
       "3                 eqnedt32.exe      .exe\n",
       "4                  troller.exe      .exe"
      ]
     },
     "execution_count": 4,
     "metadata": {},
     "output_type": "execute_result"
    }
   ],
   "source": [
    "# Call the function to merge data from JSON files in the /mnt/data/ directory\n",
    "merged_dataframe = merge_json_files_into_dataframe(directory_path)\n",
    "merged_dataframe['Extension'] = merged_dataframe['File_Names'].str.extract(r'(\\.\\w+)$')\n",
    "merged_dataframe['Extension'] = merged_dataframe['Extension'].str.lower()\n",
    "\n",
    "merged_dataframe.head()  # Displaying the first few rows of the merged DataFrame"
   ]
  },
  {
   "cell_type": "code",
   "execution_count": 5,
   "metadata": {},
   "outputs": [
    {
     "data": {
      "text/html": [
       "<div>\n",
       "<style scoped>\n",
       "    .dataframe tbody tr th:only-of-type {\n",
       "        vertical-align: middle;\n",
       "    }\n",
       "\n",
       "    .dataframe tbody tr th {\n",
       "        vertical-align: top;\n",
       "    }\n",
       "\n",
       "    .dataframe thead th {\n",
       "        text-align: right;\n",
       "    }\n",
       "</style>\n",
       "<table border=\"1\" class=\"dataframe\">\n",
       "  <thead>\n",
       "    <tr style=\"text-align: right;\">\n",
       "      <th></th>\n",
       "      <th>Ext</th>\n",
       "      <th>Count</th>\n",
       "    </tr>\n",
       "  </thead>\n",
       "  <tbody>\n",
       "    <tr>\n",
       "      <th>0</th>\n",
       "      <td>.exe</td>\n",
       "      <td>3177</td>\n",
       "    </tr>\n",
       "    <tr>\n",
       "      <th>1</th>\n",
       "      <td>.dll</td>\n",
       "      <td>1722</td>\n",
       "    </tr>\n",
       "    <tr>\n",
       "      <th>2</th>\n",
       "      <td>.html</td>\n",
       "      <td>564</td>\n",
       "    </tr>\n",
       "    <tr>\n",
       "      <th>3</th>\n",
       "      <td>.doc</td>\n",
       "      <td>522</td>\n",
       "    </tr>\n",
       "    <tr>\n",
       "      <th>4</th>\n",
       "      <td>.php</td>\n",
       "      <td>522</td>\n",
       "    </tr>\n",
       "  </tbody>\n",
       "</table>\n",
       "</div>"
      ],
      "text/plain": [
       "     Ext  Count\n",
       "0   .exe   3177\n",
       "1   .dll   1722\n",
       "2  .html    564\n",
       "3   .doc    522\n",
       "4   .php    522"
      ]
     },
     "execution_count": 5,
     "metadata": {},
     "output_type": "execute_result"
    }
   ],
   "source": [
    "extension_stats = merged_dataframe['Extension'].value_counts().reset_index()\n",
    "extension_stats.columns = ['Ext', 'Count']\n",
    "extension_stats.head()"
   ]
  },
  {
   "cell_type": "code",
   "execution_count": 6,
   "metadata": {},
   "outputs": [],
   "source": [
    "with pd.ExcelWriter(output_path) as writer:\n",
    "    merged_dataframe.to_excel(writer, sheet_name='merged_dataframe', index=False)\n",
    "    extension_stats.to_excel(writer, sheet_name='extension_stats', index=False)\n",
    "\n",
    "# output_excel_path"
   ]
  }
 ],
 "metadata": {
  "kernelspec": {
   "display_name": "Python 3",
   "language": "python",
   "name": "python3"
  },
  "language_info": {
   "codemirror_mode": {
    "name": "ipython",
    "version": 3
   },
   "file_extension": ".py",
   "mimetype": "text/x-python",
   "name": "python",
   "nbconvert_exporter": "python",
   "pygments_lexer": "ipython3",
   "version": "3.11.3"
  },
  "orig_nbformat": 4
 },
 "nbformat": 4,
 "nbformat_minor": 2
}

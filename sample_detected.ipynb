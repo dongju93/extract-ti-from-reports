{
 "cells": [
  {
   "cell_type": "code",
   "execution_count": 1,
   "metadata": {},
   "outputs": [],
   "source": [
    "import pandas as pd"
   ]
  },
  {
   "cell_type": "code",
   "execution_count": 2,
   "metadata": {},
   "outputs": [],
   "source": [
    "df = pd.DataFrame()"
   ]
  },
  {
   "cell_type": "code",
   "execution_count": 3,
   "metadata": {},
   "outputs": [],
   "source": [
    "column_names=['time','process_guid','process_id','image','user','target_filename','creation_utc_time','db_name','rule_id','matched_to','cluster_id','attack_kind','confidence','triage_scores','agent_id']\n",
    "\n",
    "# df = df.reindex(columns = column_names)\n",
    "\n",
    "data = [[\"2023-08-11 06:01:23.535\",\"{bac98147-ceb1-64d5-2d01-000000000900}\",\"2900\",\"E:\\\\mal_bazaar\\\\ransomware\\\\Jigsaw\\\\da069436a071e75601f5bc629bc2d121d9c3d24cce7b5a7f0cb8a40e1a8dfe99.exe\",\"WIN64\\\\vboxuser\",\"C:\\\\Users\\\\vboxuser\\\\AppData\\\\Local\\\\Temp\\\\.ses.fun\",\"2023-08-11 06:01:23.535\",\n",
    "    \"sampleDB\",\"9999\",\".fun\",\"9999\",\"지속\",\"100%\",\"score\",\"e7e2386a-5485-4da9-b388-b3e50ee7cbb0\"]]\n",
    "\n",
    "df = pd.DataFrame(data=data, columns=column_names)\n",
    "# df.set_index('time', inplace=True)"
   ]
  },
  {
   "cell_type": "code",
   "execution_count": 4,
   "metadata": {},
   "outputs": [
    {
     "data": {
      "text/html": [
       "<div>\n",
       "<style scoped>\n",
       "    .dataframe tbody tr th:only-of-type {\n",
       "        vertical-align: middle;\n",
       "    }\n",
       "\n",
       "    .dataframe tbody tr th {\n",
       "        vertical-align: top;\n",
       "    }\n",
       "\n",
       "    .dataframe thead th {\n",
       "        text-align: right;\n",
       "    }\n",
       "</style>\n",
       "<table border=\"1\" class=\"dataframe\">\n",
       "  <thead>\n",
       "    <tr style=\"text-align: right;\">\n",
       "      <th></th>\n",
       "      <th>time</th>\n",
       "      <th>process_guid</th>\n",
       "      <th>process_id</th>\n",
       "      <th>image</th>\n",
       "      <th>user</th>\n",
       "      <th>target_filename</th>\n",
       "      <th>creation_utc_time</th>\n",
       "      <th>db_name</th>\n",
       "      <th>rule_id</th>\n",
       "      <th>matched_to</th>\n",
       "      <th>cluster_id</th>\n",
       "      <th>attack_kind</th>\n",
       "      <th>confidence</th>\n",
       "      <th>triage_scores</th>\n",
       "      <th>agent_id</th>\n",
       "    </tr>\n",
       "  </thead>\n",
       "  <tbody>\n",
       "    <tr>\n",
       "      <th>0</th>\n",
       "      <td>2023-08-11 06:01:23.535</td>\n",
       "      <td>{bac98147-ceb1-64d5-2d01-000000000900}</td>\n",
       "      <td>2900</td>\n",
       "      <td>E:\\mal_bazaar\\ransomware\\Jigsaw\\da069436a071e7...</td>\n",
       "      <td>WIN64\\vboxuser</td>\n",
       "      <td>C:\\Users\\vboxuser\\AppData\\Local\\Temp\\.ses.fun</td>\n",
       "      <td>2023-08-11 06:01:23.535</td>\n",
       "      <td>sampleDB</td>\n",
       "      <td>9999</td>\n",
       "      <td>.fun</td>\n",
       "      <td>9999</td>\n",
       "      <td>지속</td>\n",
       "      <td>100%</td>\n",
       "      <td>score</td>\n",
       "      <td>e7e2386a-5485-4da9-b388-b3e50ee7cbb0</td>\n",
       "    </tr>\n",
       "  </tbody>\n",
       "</table>\n",
       "</div>"
      ],
      "text/plain": [
       "                      time                            process_guid process_id  \\\n",
       "0  2023-08-11 06:01:23.535  {bac98147-ceb1-64d5-2d01-000000000900}       2900   \n",
       "\n",
       "                                               image            user  \\\n",
       "0  E:\\mal_bazaar\\ransomware\\Jigsaw\\da069436a071e7...  WIN64\\vboxuser   \n",
       "\n",
       "                                 target_filename        creation_utc_time  \\\n",
       "0  C:\\Users\\vboxuser\\AppData\\Local\\Temp\\.ses.fun  2023-08-11 06:01:23.535   \n",
       "\n",
       "    db_name rule_id matched_to cluster_id attack_kind confidence  \\\n",
       "0  sampleDB    9999       .fun       9999          지속       100%   \n",
       "\n",
       "  triage_scores                              agent_id  \n",
       "0         score  e7e2386a-5485-4da9-b388-b3e50ee7cbb0  "
      ]
     },
     "execution_count": 4,
     "metadata": {},
     "output_type": "execute_result"
    }
   ],
   "source": [
    "df"
   ]
  },
  {
   "cell_type": "code",
   "execution_count": 5,
   "metadata": {},
   "outputs": [],
   "source": [
    "# win path\n",
    "df.to_csv('C:/Users/spdlq/Documents/my_code/ttp_autogpt/python_ground/output/RansomwareFile_Jigsaw_sample.csv', index=False, sep='\\t')\n",
    "\n",
    "#mac path\n",
    "# df.to_csv('/Users/dong-ju/Documents/My_code/ttp_autogpt/python_ground/output/Event11_jigsaw.csv', index=False, sep='\\t')\n"
   ]
  }
 ],
 "metadata": {
  "kernelspec": {
   "display_name": "Python 3",
   "language": "python",
   "name": "python3"
  },
  "language_info": {
   "codemirror_mode": {
    "name": "ipython",
    "version": 3
   },
   "file_extension": ".py",
   "mimetype": "text/x-python",
   "name": "python",
   "nbconvert_exporter": "python",
   "pygments_lexer": "ipython3",
   "version": "3.11.4"
  },
  "orig_nbformat": 4
 },
 "nbformat": 4,
 "nbformat_minor": 2
}

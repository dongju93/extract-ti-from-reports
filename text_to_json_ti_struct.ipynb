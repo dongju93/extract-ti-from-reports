{
 "cells": [
  {
   "cell_type": "code",
   "execution_count": 1,
   "metadata": {},
   "outputs": [],
   "source": [
    "import os\n",
    "import re\n",
    "import json"
   ]
  },
  {
   "cell_type": "code",
   "execution_count": 2,
   "metadata": {},
   "outputs": [],
   "source": [
    "def categorize_content(content):\n",
    "    rule_id = 0\n",
    "    name = \"\"\n",
    "    description = \"\"\n",
    "    reference_name_pattern = re.compile(r'CVE-\\d{4}-\\d{4,5}', re.IGNORECASE)\n",
    "    reference_name = re.findall(reference_name_pattern, content)\n",
    "    filename_pattern = re.compile(r'\\b\\w+\\.[a-zA-Z]{3,4}\\b')\n",
    "    filenames = re.findall(filename_pattern, content)\n",
    "    md5_pattern = re.compile(r'\\b[0-9a-fA-F]{32}\\b')\n",
    "    sha1_pattern = re.compile(r'\\b[0-9a-fA-F]{40}\\b')\n",
    "    sha256_pattern = re.compile(r'\\b[0-9a-fA-F]{64}\\b')\n",
    "    md5_hashes = re.findall(md5_pattern, content)\n",
    "    sha1_hashes = re.findall(sha1_pattern, content)\n",
    "    sha256_hashes = re.findall(sha256_pattern, content)\n",
    "    registry_pattern = re.compile(r'HK[A-Z_]+\\\\[^\"]+')\n",
    "    registry_entries = re.findall(registry_pattern, content)\n",
    "    url_pattern = re.compile(r'http[s]?://(?:[a-zA-Z]|[0-9]|[$-_@.&+]|[!*\\\\(\\\\),]|(?:%[0-9a-fA-F][0-9a-fA-F]))+')\n",
    "    urls = re.findall(url_pattern, content)\n",
    "    weight = 0.0\n",
    "\n",
    "    return {\n",
    "        'rule_id': rule_id,\n",
    "        'name': name,\n",
    "        'description': description\n",
    "        'references': reference_name,\n",
    "        'File_Names': filenames,\n",
    "        'MD5_Hashes': md5_hashes,\n",
    "        'SHA1_Hashes': sha1_hashes,\n",
    "        'SHA256_Hashes': sha256_hashes,\n",
    "        'Registry_Entries': registry_entries,\n",
    "        'URLs': urls,\n",
    "        'weight': weight\n",
    "    }"
   ]
  },
  {
   "cell_type": "code",
   "execution_count": 3,
   "metadata": {},
   "outputs": [],
   "source": [
    "unique_reference_names = set()\n",
    "unique_filenames = set()\n",
    "unique_md5_hashes = set()\n",
    "unique_sha1_hashes = set()\n",
    "unique_sha256_hashes = set()\n",
    "unique_registry_entries = set()\n",
    "unique_urls = set()"
   ]
  },
  {
   "cell_type": "code",
   "execution_count": 4,
   "metadata": {},
   "outputs": [],
   "source": [
    "winTxtPath = 'C:/Users/spdlq/Documents/my_code/ttp_autogpt/python_ground/2022_text/'\n",
    "macTxtPath = ''\n",
    "winOutPath = 'C:/Users/spdlq/Documents/my_code/ttp_autogpt/python_ground/output/'\n",
    "macOutPath = ''"
   ]
  },
  {
   "cell_type": "code",
   "execution_count": 5,
   "metadata": {},
   "outputs": [],
   "source": [
    "directory_path = winTxtPath\n",
    "\n",
    "text_files = [os.path.join(directory_path, file) for file in os.listdir(directory_path) if file.endswith('.txt')]\n",
    "\n",
    "\n",
    "all_files_categorized_content = {}\n",
    "i = 0\n",
    "\n",
    "for file_path in text_files:\n",
    "    with open(file_path, 'r', encoding='utf-8', errors='ignore') as file:\n",
    "        content = file.read()\n",
    "        categorized_content = categorize_content(content)\n",
    "        filename = os.path.basename(file_path)\n",
    "\n",
    "        i += 1\n",
    "\n",
    "        categorized_content['rule_id'] = i\n",
    "        \n",
    "        categorized_content['name'] = filename[:-4]\n",
    "\n",
    "        categorized_content['description'] = \"-\"\n",
    "\n",
    "        categorized_content['references'] = [match.upper() for match in categorized_content['references']]\n",
    "\n",
    "        categorized_content['references'] = list(set([x for x in categorized_content['references'] if x not in unique_filenames]))\n",
    "        unique_filenames.update(categorized_content['references'])\n",
    "\n",
    "        categorized_content['File_Names'] = list(set([x for x in categorized_content['File_Names'] if x not in unique_filenames]))\n",
    "        unique_filenames.update(categorized_content['File_Names'])\n",
    "\n",
    "        categorized_content['MD5_Hashes'] = list(set([x for x in categorized_content['MD5_Hashes'] if x not in unique_filenames]))\n",
    "        unique_filenames.update(categorized_content['MD5_Hashes'])\n",
    "\n",
    "        categorized_content['SHA1_Hashes'] = list(set([x for x in categorized_content['SHA1_Hashes'] if x not in unique_filenames]))\n",
    "        unique_filenames.update(categorized_content['SHA1_Hashes'])\n",
    "\n",
    "        categorized_content['SHA256_Hashes'] = list(set([x for x in categorized_content['SHA256_Hashes'] if x not in unique_filenames]))\n",
    "        unique_filenames.update(categorized_content['SHA256_Hashes'])\n",
    "\n",
    "        categorized_content['Registry_Entries'] = list(set([x for x in categorized_content['Registry_Entries'] if x not in unique_filenames]))\n",
    "        unique_filenames.update(categorized_content['Registry_Entries'])\n",
    "\n",
    "        categorized_content['URLs'] = list(set([x for x in categorized_content['URLs'] if x not in unique_filenames]))\n",
    "        unique_filenames.update(categorized_content['URLs'])\n",
    "        categorized_content['weight'] = 0.0\n",
    "        \n",
    "        output_json_path = winOutPath+filename[:-4]+\".json\"\n",
    "        with open(output_json_path, \"w\") as outfile:\n",
    "            json.dump(categorized_content, outfile)\n",
    "\n",
    "        categorized_content = []"
   ]
  },
  {
   "cell_type": "code",
   "execution_count": null,
   "metadata": {},
   "outputs": [],
   "source": []
  },
  {
   "cell_type": "code",
   "execution_count": null,
   "metadata": {},
   "outputs": [],
   "source": []
  }
 ],
 "metadata": {
  "kernelspec": {
   "display_name": "Python 3",
   "language": "python",
   "name": "python3"
  },
  "language_info": {
   "codemirror_mode": {
    "name": "ipython",
    "version": 3
   },
   "file_extension": ".py",
   "mimetype": "text/x-python",
   "name": "python",
   "nbconvert_exporter": "python",
   "pygments_lexer": "ipython3",
   "version": "3.11.4"
  },
  "orig_nbformat": 4
 },
 "nbformat": 4,
 "nbformat_minor": 2
}

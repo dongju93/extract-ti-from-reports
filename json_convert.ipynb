{
 "cells": [
  {
   "cell_type": "code",
   "execution_count": 9,
   "metadata": {},
   "outputs": [],
   "source": [
    "import json\n",
    "import datetime"
   ]
  },
  {
   "cell_type": "code",
   "execution_count": 10,
   "metadata": {},
   "outputs": [],
   "source": [
    "with open('output/jayden/ori.json', 'r') as original_files:\n",
    "    original_data = json.load(original_files)"
   ]
  },
  {
   "cell_type": "code",
   "execution_count": 11,
   "metadata": {},
   "outputs": [],
   "source": [
    "ti_number = 50000\n",
    "for item in original_data:\n",
    "    ti_number += 1\n",
    "    item[\"ti_no\"] = ti_number\n",
    "    item[\"ti_nm\"] = item.pop(\"name\", None)\n",
    "    item[\"ti_desc\"] = item.pop(\"description\", None)\n",
    "    item[\"ti_ref\"] = item.pop(\"references\", None)\n",
    "    item[\"ti_smp\"] = item.pop(\"samples\", None)\n",
    "    item[\"ti_sgn\"] = item.pop(\"signatures\", None)\n",
    "    item[\"ti_area\"] = \"ntas\"\n",
    "    item[\"site_tp\"] = \"rio\"\n",
    "    item[\"del_yn\"] = \"N\"\n",
    "    item[\"ti_type\"] = \"URL\"\n",
    "    item[\"ti_applied\"] = \"Y\"\n",
    "    item[\"reg_user_id\"] = \"admin\"\n",
    "    item[\"reg_dt\"] = \"\"\n",
    "    item.pop(\"weight\", None)"
   ]
  },
  {
   "cell_type": "code",
   "execution_count": 12,
   "metadata": {},
   "outputs": [],
   "source": [
    "outputfile = 'output/jayden/rename.json'\n",
    "\n",
    "with open(outputfile, 'w') as outfile:\n",
    "    json.dump(original_data, outfile, indent=4)"
   ]
  },
  {
   "cell_type": "code",
   "execution_count": null,
   "metadata": {},
   "outputs": [],
   "source": []
  }
 ],
 "metadata": {
  "kernelspec": {
   "display_name": "Python 3",
   "language": "python",
   "name": "python3"
  },
  "language_info": {
   "codemirror_mode": {
    "name": "ipython",
    "version": 3
   },
   "file_extension": ".py",
   "mimetype": "text/x-python",
   "name": "python",
   "nbconvert_exporter": "python",
   "pygments_lexer": "ipython3",
   "version": "3.12.0"
  }
 },
 "nbformat": 4,
 "nbformat_minor": 2
}

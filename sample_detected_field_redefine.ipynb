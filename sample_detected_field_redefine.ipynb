{
 "cells": [
  {
   "cell_type": "code",
   "execution_count": 1,
   "metadata": {},
   "outputs": [],
   "source": [
    "import pandas as pd"
   ]
  },
  {
   "cell_type": "code",
   "execution_count": 2,
   "metadata": {},
   "outputs": [],
   "source": [
    "df = pd.DataFrame()"
   ]
  },
  {
   "cell_type": "code",
   "execution_count": 3,
   "metadata": {},
   "outputs": [],
   "source": [
    "column_names=['time','process_guid','process_id','image','user','db_name','rule_id','matched_to','cluster_id','attack_kind','confidence','triage_scores','padding_field_1','padding_field_2','padding_field_3','padding_field_4','padding_field_5']\n",
    "\n",
    "# df = df.reindex(columns = column_names)\n",
    "# ransomware\n",
    "# data = [\n",
    "#     [\"2023-08-10 04:43:47.071\",\"{bac98147-6b03-64d4-8200-000000000700}\",\"2972\",\"C:\\\\Users\\\\vboxuser\\\\Desktop\\\\mal_bazaar\\\\ransomware\\\\918504ede26bb9a3aa315319da4d3549d64531afba593bfad71a653292899fec.exe\",\"WIN64\\\\vboxuser\",\"etas_ti\",\"10001\",\"918504ede26bb9a3aa315319da4d3549d64531afba593bfad71a653292899fec\",\"20001\",\"Alcatraz\",\"100\",\"\",\"-\",\"-\",\"-\",\"-\",\"-\"],\n",
    "#     [\"2023-08-11 06:01:24.289\",\"{bac98147-ceb1-64d5-2d01-000000000900}\",\"2900\",\"E:\\\\mal_bazaar\\\\ransomware\\\\Jigsaw\\\\da069436a071e75601f5bc629bc2d121d9c3d24cce7b5a7f0cb8a40e1a8dfe99.exe\",\"WIN64\\\\vboxuser\",\"etas_ti\",\"10002\",\".fun\",\"20002\",\"Jigsaw\",\"100\",\"\",\"-\",\"-\",\"-\",\"-\",\"-\"],\n",
    "#     [\"2023-08-11 05:26:50.303\",\"{bac98147-c644-64d5-df00-000000000700}\",\"4352\",\"E:\\\\mal_bazaar\\\\ransomware\\\\Ryuk\\\\bf575ce1c9425bc44f5cabbc34366e0e92ef369db0a8b69942c5bdb1cca9b800.exe\",\"WIN64\\\\vboxuser\",\"etas_ti\",\"10003\",\"Ryuk\",\"20003\",\"Ryuk\",\"100\",\"\",\"-\",\"-\",\"-\",\"-\",\"-\"]\n",
    "# ]\n",
    "\n",
    "# rootkit\n",
    "data = [[\"2023-08-11 05:15:56.754\",\"{bac98147-c40c-64d5-1001-000000000700}\",\"5260\",\"E:\\\\mal_bazaar\\\\rootkit\\\\r77Rootkit 1.4.3\\\\TestConsole.exe\",\"WIN64\\\\vboxuser\",\"etas_ti\",\"10004\",\"DEE7991F7EE388A8BD1D2860809E30937D4FE56BDE94C4D6E8E24A79FED6AE92\",\"20004\",\"R77\",\"100\",\"\",\"-\",\"-\",\"-\",\"-\",\"-\"]]\n",
    "# bootkit\n",
    "# data = [[\"2023-08-21 06:45:52.964\",\"{bac98147-0820-64e3-a005-000000000900}\",\"5812\",\"E:\\\\bootkit\\\\f428b4d0673ae67472fbe212086e70eeb5b6876e80a74b59ff8ba3e6def5e9b1.exe\",\"WIN64\\\\vboxuser\",\"etas_ti\",\"10005\",\"F428B4D0673AE67472FBE212086E70EEB5B6876E80A74B59FF8BA3E6DEF5E9B1\",\"20005\",\"ESPecter\",\"100\",\"\",\"-\",\"-\",\"-\",\"-\",\"-\"]]\n",
    "\n",
    "\n",
    "df = pd.DataFrame(data=data, columns=column_names)\n",
    "# df.set_index('time', inplace=True)"
   ]
  },
  {
   "cell_type": "code",
   "execution_count": 4,
   "metadata": {},
   "outputs": [
    {
     "data": {
      "text/html": [
       "<div>\n",
       "<style scoped>\n",
       "    .dataframe tbody tr th:only-of-type {\n",
       "        vertical-align: middle;\n",
       "    }\n",
       "\n",
       "    .dataframe tbody tr th {\n",
       "        vertical-align: top;\n",
       "    }\n",
       "\n",
       "    .dataframe thead th {\n",
       "        text-align: right;\n",
       "    }\n",
       "</style>\n",
       "<table border=\"1\" class=\"dataframe\">\n",
       "  <thead>\n",
       "    <tr style=\"text-align: right;\">\n",
       "      <th></th>\n",
       "      <th>time</th>\n",
       "      <th>process_guid</th>\n",
       "      <th>process_id</th>\n",
       "      <th>image</th>\n",
       "      <th>user</th>\n",
       "      <th>db_name</th>\n",
       "      <th>rule_id</th>\n",
       "      <th>matched_to</th>\n",
       "      <th>cluster_id</th>\n",
       "      <th>attack_kind</th>\n",
       "      <th>confidence</th>\n",
       "      <th>triage_scores</th>\n",
       "      <th>padding_field_1</th>\n",
       "      <th>padding_field_2</th>\n",
       "      <th>padding_field_3</th>\n",
       "      <th>padding_field_4</th>\n",
       "      <th>padding_field_5</th>\n",
       "    </tr>\n",
       "  </thead>\n",
       "  <tbody>\n",
       "    <tr>\n",
       "      <th>0</th>\n",
       "      <td>2023-08-11 05:15:56.754</td>\n",
       "      <td>{bac98147-c40c-64d5-1001-000000000700}</td>\n",
       "      <td>5260</td>\n",
       "      <td>E:\\mal_bazaar\\rootkit\\r77Rootkit 1.4.3\\TestCon...</td>\n",
       "      <td>WIN64\\vboxuser</td>\n",
       "      <td>etas_ti</td>\n",
       "      <td>10004</td>\n",
       "      <td>DEE7991F7EE388A8BD1D2860809E30937D4FE56BDE94C4...</td>\n",
       "      <td>20004</td>\n",
       "      <td>R77</td>\n",
       "      <td>100</td>\n",
       "      <td></td>\n",
       "      <td>-</td>\n",
       "      <td>-</td>\n",
       "      <td>-</td>\n",
       "      <td>-</td>\n",
       "      <td>-</td>\n",
       "    </tr>\n",
       "  </tbody>\n",
       "</table>\n",
       "</div>"
      ],
      "text/plain": [
       "                      time                            process_guid process_id  \\\n",
       "0  2023-08-11 05:15:56.754  {bac98147-c40c-64d5-1001-000000000700}       5260   \n",
       "\n",
       "                                               image            user  db_name  \\\n",
       "0  E:\\mal_bazaar\\rootkit\\r77Rootkit 1.4.3\\TestCon...  WIN64\\vboxuser  etas_ti   \n",
       "\n",
       "  rule_id                                         matched_to cluster_id  \\\n",
       "0   10004  DEE7991F7EE388A8BD1D2860809E30937D4FE56BDE94C4...      20004   \n",
       "\n",
       "  attack_kind confidence triage_scores padding_field_1 padding_field_2  \\\n",
       "0         R77        100                             -               -   \n",
       "\n",
       "  padding_field_3 padding_field_4 padding_field_5  \n",
       "0               -               -               -  "
      ]
     },
     "execution_count": 4,
     "metadata": {},
     "output_type": "execute_result"
    }
   ],
   "source": [
    "df"
   ]
  },
  {
   "cell_type": "code",
   "execution_count": 5,
   "metadata": {},
   "outputs": [],
   "source": [
    "# win path\n",
    "# jigsaw 다시\n",
    "df.to_csv('C:/Users/spdlq/Documents/my_code/ttp_autogpt/python_ground/output//samples/rootkit_sample.csv', index=False, sep='\\t')\n",
    "\n",
    "#mac path\n",
    "# df.to_csv('/Users/dong-ju/Documents/My_code/ttp_autogpt/python_ground/output/Event11_jigsaw.csv', index=False, sep='\\t')\n"
   ]
  }
 ],
 "metadata": {
  "kernelspec": {
   "display_name": "Python 3",
   "language": "python",
   "name": "python3"
  },
  "language_info": {
   "codemirror_mode": {
    "name": "ipython",
    "version": 3
   },
   "file_extension": ".py",
   "mimetype": "text/x-python",
   "name": "python",
   "nbconvert_exporter": "python",
   "pygments_lexer": "ipython3",
   "version": "3.11.4"
  },
  "orig_nbformat": 4
 },
 "nbformat": 4,
 "nbformat_minor": 2
}

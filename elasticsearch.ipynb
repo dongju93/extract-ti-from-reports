{
 "cells": [
  {
   "cell_type": "code",
   "execution_count": 1,
   "metadata": {},
   "outputs": [
    {
     "name": "stderr",
     "output_type": "stream",
     "text": [
      "/Library/Frameworks/Python.framework/Versions/3.11/lib/python3.11/site-packages/elasticsearch/_sync/client/__init__.py:395: SecurityWarning: Connecting to 'https://localhost:9200' using TLS with verify_certs=False is insecure\n",
      "  _transport = transport_class(\n",
      "/var/folders/ly/h9mjdl311vl8hjq1r10v8r200000gn/T/ipykernel_81041/860402210.py:20: DeprecationWarning: The 'body' parameter is deprecated and will be removed in a future version. Instead use individual parameters.\n",
      "  res = es.search(index=index, body=body)\n",
      "/Library/Frameworks/Python.framework/Versions/3.11/lib/python3.11/site-packages/urllib3/connectionpool.py:1045: InsecureRequestWarning: Unverified HTTPS request is being made to host 'localhost'. Adding certificate verification is strongly advised. See: https://urllib3.readthedocs.io/en/1.26.x/advanced-usage.html#ssl-warnings\n",
      "  warnings.warn(\n"
     ]
    }
   ],
   "source": [
    "from elasticsearch import Elasticsearch\n",
    "import json\n",
    "import pandas as pd\n",
    "import rocksdb\n",
    "\n",
    "\n",
    "es = Elasticsearch(hosts=\"https://localhost:9200\", basic_auth=[\"elastic\", \"2qsz7K*6lxelAyO*lV=*\"], verify_certs=False)\n",
    "\n",
    "index = \".ds-winlogbeat-8.8.2-2023.08.06-000001\"\n",
    "body = {\n",
    "    \"query\": {\n",
    "        \"match\": {\n",
    "            \"event.code\": \"1\"\n",
    "        }\n",
    "    },\n",
    "    \"size\": 1000,\n",
    "    \"_source\": [\"message\"]\n",
    "}\n",
    "\n",
    "res = es.search(index=index, body=body)"
   ]
  },
  {
   "cell_type": "code",
   "execution_count": 2,
   "metadata": {},
   "outputs": [],
   "source": [
    "# define the substrings to be replaced\n",
    "replace_strings = [\"Process Create:\", \"RuleName: \", \"UtcTime: \",\"FileVersion: \", \"Description: \",\n",
    "\"Product: \",\"Company: \",\"OriginalFileName: \",\"CurrentDirectory: \", \"LogonGuid: \", \"LogonId: \", \"TerminalSessionId: \",\n",
    "\"IntegrityLevel: \", \"Hashes: \", \"ParentProcessGuid: \", \"ParentProcessId: \", \"ParentImage: \", \"ParentCommandLine: \", \"ParentUser: \",\n",
    "\"ProcessGuid: \", \"ProcessId: \", \"Image: \", \"CommandLine: \"]\n",
    "\n",
    "# store messages in a list\n",
    "messages = []\n",
    "for hit in res['hits']['hits']:\n",
    "    message = hit[\"_source\"].get(\"message\")\n",
    "    if message is not None:\n",
    "        # remove the unwanted substrings\n",
    "        for s in replace_strings:\n",
    "            message = message.replace(s, \"\")\n",
    "        messages.append(message)\n",
    "\n",
    "# create a DataFrame\n",
    "df = pd.DataFrame([message.split('\\n') for message in messages])\n"
   ]
  },
  {
   "cell_type": "markdown",
   "metadata": {},
   "source": []
  },
  {
   "cell_type": "code",
   "execution_count": 3,
   "metadata": {},
   "outputs": [],
   "source": [
    "df.columns = ['EventType', 'RuleName', 'UtcTime', 'ProcessGuid', 'ProcessId', 'Image', 'FileVersion', 'Description', 'Product', 'Company', 'OriginalFileName', 'CommandLine',\n",
    "'CurrentDirectory', 'User', 'LogonGuid', 'LogonId', 'TerminalSessionId', 'IntegrityLevel', 'Hashes', 'ParentProcessGuid', 'ParentProcessId', 'ParentImage', 'ParentCommandLine', 'ParentUser']"
   ]
  },
  {
   "cell_type": "code",
   "execution_count": 4,
   "metadata": {},
   "outputs": [],
   "source": [
    "df.EventType = \"Process Create\""
   ]
  },
  {
   "cell_type": "code",
   "execution_count": 5,
   "metadata": {},
   "outputs": [],
   "source": [
    "db = rocksdb.RocksDB(\"/Users/dong-ju/Dropbox/EINSIS/03. CODE/files/rocksdb/python\", rocksdb.Options(create_if_missing=True))\n"
   ]
  },
  {
   "cell_type": "code",
   "execution_count": null,
   "metadata": {},
   "outputs": [],
   "source": []
  }
 ],
 "metadata": {
  "kernelspec": {
   "display_name": "Python 3",
   "language": "python",
   "name": "python3"
  },
  "language_info": {
   "codemirror_mode": {
    "name": "ipython",
    "version": 3
   },
   "file_extension": ".py",
   "mimetype": "text/x-python",
   "name": "python",
   "nbconvert_exporter": "python",
   "pygments_lexer": "ipython3",
   "version": "3.11.3"
  },
  "orig_nbformat": 4
 },
 "nbformat": 4,
 "nbformat_minor": 2
}

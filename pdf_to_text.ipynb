{
 "cells": [
  {
   "cell_type": "code",
   "execution_count": 1,
   "metadata": {},
   "outputs": [],
   "source": [
    "import os\n",
    "from pdfminer.high_level import extract_text"
   ]
  },
  {
   "cell_type": "code",
   "execution_count": 2,
   "metadata": {},
   "outputs": [],
   "source": [
    "def list_pdf_files(directory_path):\n",
    "    pdf_files = []\n",
    "    for root, dirs, files in os.walk(directory_path):\n",
    "        for file in files:\n",
    "            if file.endswith('.pdf'):\n",
    "                pdf_files.append(os.path.join(root, file))\n",
    "    return pdf_files"
   ]
  },
  {
   "cell_type": "code",
   "execution_count": 3,
   "metadata": {},
   "outputs": [],
   "source": [
    "def extract_text_from_pdf(file_path):\n",
    "    try:\n",
    "        text = extract_text(file_path)\n",
    "    except Exception as e:\n",
    "        print(f\"Error processing {file_path}: {e}\")\n",
    "        text = \"Error occurred while extracting text\"\n",
    "    return text"
   ]
  },
  {
   "cell_type": "code",
   "execution_count": 4,
   "metadata": {},
   "outputs": [],
   "source": [
    "def save_text_to_file(text, output_path):\n",
    "    with open(output_path, 'w', encoding='utf-8') as file:\n",
    "        file.write(text)"
   ]
  },
  {
   "cell_type": "code",
   "execution_count": 5,
   "metadata": {},
   "outputs": [],
   "source": [
    "winPdfPath = 'C:/Users/spdlq/Documents/my_code/ttp_autogpt/python_ground/2022_pdf/'\n",
    "macPdfPath = ''\n",
    "winTxtPath = 'C:/Users/spdlq/Documents/my_code/ttp_autogpt/python_ground/2022_text/'\n",
    "macTxtPath = ''"
   ]
  },
  {
   "cell_type": "code",
   "execution_count": 6,
   "metadata": {},
   "outputs": [],
   "source": [
    "directory_path = winPdfPath"
   ]
  },
  {
   "cell_type": "code",
   "execution_count": 7,
   "metadata": {},
   "outputs": [],
   "source": [
    "pdf_files = list_pdf_files(directory_path)"
   ]
  },
  {
   "cell_type": "code",
   "execution_count": 8,
   "metadata": {},
   "outputs": [
    {
     "name": "stdout",
     "output_type": "stream",
     "text": [
      "Processing C:/Users/spdlq/Documents/my_code/ttp_autogpt/python_ground/2022_pdf/(Ex)Change of Pace_ UNC2596 Observed Leveraging Vulnerabilities to Deploy Cuba Ransomware _ Mandiant.pdf...\n",
      "Finished processing C:/Users/spdlq/Documents/my_code/ttp_autogpt/python_ground/2022_pdf/(Ex)Change of Pace_ UNC2596 Observed Leveraging Vulnerabilities to Deploy Cuba Ransomware _ Mandiant.pdf\n",
      "Processing C:/Users/spdlq/Documents/my_code/ttp_autogpt/python_ground/2022_pdf/Antlion_ Chinese APT Uses Custom Backdoor to Target Financial Institutions in Taiwan _ Symantec Blogs.pdf...\n",
      "Finished processing C:/Users/spdlq/Documents/my_code/ttp_autogpt/python_ground/2022_pdf/Antlion_ Chinese APT Uses Custom Backdoor to Target Financial Institutions in Taiwan _ Symantec Blogs.pdf\n",
      "Processing C:/Users/spdlq/Documents/my_code/ttp_autogpt/python_ground/2022_pdf/Appendix_Cyclops Blink Sets Sights on ASUS Routers.pdf...\n",
      "Finished processing C:/Users/spdlq/Documents/my_code/ttp_autogpt/python_ground/2022_pdf/Appendix_Cyclops Blink Sets Sights on ASUS Routers.pdf\n",
      "Processing C:/Users/spdlq/Documents/my_code/ttp_autogpt/python_ground/2022_pdf/APT29_StellarParticle-Campaing_CrowdStrike.pdf...\n",
      "Finished processing C:/Users/spdlq/Documents/my_code/ttp_autogpt/python_ground/2022_pdf/APT29_StellarParticle-Campaing_CrowdStrike.pdf\n",
      "Processing C:/Users/spdlq/Documents/my_code/ttp_autogpt/python_ground/2022_pdf/Asylum Ambuscade_ State Actor Uses Compromised Private Ukrainian Military Emails to Target European Governments and Refugee Movement _ Proofpoint US.pdf...\n",
      "Finished processing C:/Users/spdlq/Documents/my_code/ttp_autogpt/python_ground/2022_pdf/Asylum Ambuscade_ State Actor Uses Compromised Private Ukrainian Military Emails to Target European Governments and Refugee Movement _ Proofpoint US.pdf\n",
      "Processing C:/Users/spdlq/Documents/my_code/ttp_autogpt/python_ground/2022_pdf/Attacks on industrial control systems using ShadowPad _ Kaspersky ICS CERT.pdf...\n",
      "Finished processing C:/Users/spdlq/Documents/my_code/ttp_autogpt/python_ground/2022_pdf/Attacks on industrial control systems using ShadowPad _ Kaspersky ICS CERT.pdf\n",
      "Processing C:/Users/spdlq/Documents/my_code/ttp_autogpt/python_ground/2022_pdf/Blowing Cobalt Strike Out of the Water With Memory Analysis.pdf...\n",
      "Finished processing C:/Users/spdlq/Documents/my_code/ttp_autogpt/python_ground/2022_pdf/Blowing Cobalt Strike Out of the Water With Memory Analysis.pdf\n",
      "Processing C:/Users/spdlq/Documents/my_code/ttp_autogpt/python_ground/2022_pdf/BRONZE PRESIDENT Targets Government Officials _ Secureworks.pdf...\n",
      "Finished processing C:/Users/spdlq/Documents/my_code/ttp_autogpt/python_ground/2022_pdf/BRONZE PRESIDENT Targets Government Officials _ Secureworks.pdf\n",
      "Processing C:/Users/spdlq/Documents/my_code/ttp_autogpt/python_ground/2022_pdf/Cisco Talos Intelligence Group - Comprehensive Threat Intelligence_ Bitter APT adds Bangladesh to their targets.pdf...\n",
      "Finished processing C:/Users/spdlq/Documents/my_code/ttp_autogpt/python_ground/2022_pdf/Cisco Talos Intelligence Group - Comprehensive Threat Intelligence_ Bitter APT adds Bangladesh to their targets.pdf\n",
      "Processing C:/Users/spdlq/Documents/my_code/ttp_autogpt/python_ground/2022_pdf/Cisco Talos Intelligence Group - Comprehensive Threat Intelligence_ Iranian APT MuddyWater targets Turkish users via malicious PDFs, executables.pdf...\n",
      "Finished processing C:/Users/spdlq/Documents/my_code/ttp_autogpt/python_ground/2022_pdf/Cisco Talos Intelligence Group - Comprehensive Threat Intelligence_ Iranian APT MuddyWater targets Turkish users via malicious PDFs, executables.pdf\n",
      "Processing C:/Users/spdlq/Documents/my_code/ttp_autogpt/python_ground/2022_pdf/Cisco Talos Intelligence Group - Comprehensive Threat Intelligence_ Mustang Panda deploys a new wave of malware targeting Europe.pdf...\n",
      "Finished processing C:/Users/spdlq/Documents/my_code/ttp_autogpt/python_ground/2022_pdf/Cisco Talos Intelligence Group - Comprehensive Threat Intelligence_ Mustang Panda deploys a new wave of malware targeting Europe.pdf\n",
      "Processing C:/Users/spdlq/Documents/my_code/ttp_autogpt/python_ground/2022_pdf/CosmicStrand_ the discovery of a sophisticated UEFI firmware rootkit _ Securelist.pdf...\n",
      "Finished processing C:/Users/spdlq/Documents/my_code/ttp_autogpt/python_ground/2022_pdf/CosmicStrand_ the discovery of a sophisticated UEFI firmware rootkit _ Securelist.pdf\n",
      "Processing C:/Users/spdlq/Documents/my_code/ttp_autogpt/python_ground/2022_pdf/Cyclops Blink Sets Sights on Asus Routers.pdf...\n",
      "Finished processing C:/Users/spdlq/Documents/my_code/ttp_autogpt/python_ground/2022_pdf/Cyclops Blink Sets Sights on Asus Routers.pdf\n",
      "Processing C:/Users/spdlq/Documents/my_code/ttp_autogpt/python_ground/2022_pdf/Internet Explorer 0-day exploited by North Korean actor APT37.pdf...\n",
      "Finished processing C:/Users/spdlq/Documents/my_code/ttp_autogpt/python_ground/2022_pdf/Internet Explorer 0-day exploited by North Korean actor APT37.pdf\n",
      "Processing C:/Users/spdlq/Documents/my_code/ttp_autogpt/python_ground/2022_pdf/IOCs-the-rise-of-earth-aughisky-tracking-the-campaigns-taidoor-started.pdf...\n",
      "Finished processing C:/Users/spdlq/Documents/my_code/ttp_autogpt/python_ground/2022_pdf/IOCs-the-rise-of-earth-aughisky-tracking-the-campaigns-taidoor-started.pdf\n",
      "Processing C:/Users/spdlq/Documents/my_code/ttp_autogpt/python_ground/2022_pdf/Iron Tiger Compromises Chat Application Mimi, Targets Windows, Mac, and Linux Users.pdf...\n",
      "Finished processing C:/Users/spdlq/Documents/my_code/ttp_autogpt/python_ground/2022_pdf/Iron Tiger Compromises Chat Application Mimi, Targets Windows, Mac, and Linux Users.pdf\n",
      "Processing C:/Users/spdlq/Documents/my_code/ttp_autogpt/python_ground/2022_pdf/Konni_targeting_Russian_diplomatic_sector.pdf...\n",
      "Finished processing C:/Users/spdlq/Documents/my_code/ttp_autogpt/python_ground/2022_pdf/Konni_targeting_Russian_diplomatic_sector.pdf\n",
      "Processing C:/Users/spdlq/Documents/my_code/ttp_autogpt/python_ground/2022_pdf/LuckyMouse uses a backdoored Electron app to target MacOS - SEKOIA.IO Blog.pdf...\n",
      "Finished processing C:/Users/spdlq/Documents/my_code/ttp_autogpt/python_ground/2022_pdf/LuckyMouse uses a backdoored Electron app to target MacOS - SEKOIA.IO Blog.pdf\n",
      "Processing C:/Users/spdlq/Documents/my_code/ttp_autogpt/python_ground/2022_pdf/Message from Recorded Future.pdf...\n",
      "Finished processing C:/Users/spdlq/Documents/my_code/ttp_autogpt/python_ground/2022_pdf/Message from Recorded Future.pdf\n",
      "Processing C:/Users/spdlq/Documents/my_code/ttp_autogpt/python_ground/2022_pdf/MoonBounce_ the dark side of UEFI firmware _ Securelist.pdf...\n",
      "Finished processing C:/Users/spdlq/Documents/my_code/ttp_autogpt/python_ground/2022_pdf/MoonBounce_ the dark side of UEFI firmware _ Securelist.pdf\n",
      "Processing C:/Users/spdlq/Documents/my_code/ttp_autogpt/python_ground/2022_pdf/Mustang Panda Abuses Legitimate Apps to Target Myanmar Based Victims.pdf...\n",
      "Finished processing C:/Users/spdlq/Documents/my_code/ttp_autogpt/python_ground/2022_pdf/Mustang Panda Abuses Legitimate Apps to Target Myanmar Based Victims.pdf\n",
      "Processing C:/Users/spdlq/Documents/my_code/ttp_autogpt/python_ground/2022_pdf/Mustang Panda Uses the Russian-Ukrainian War to Attack Europe and Asia Pacific Targets.pdf...\n",
      "Finished processing C:/Users/spdlq/Documents/my_code/ttp_autogpt/python_ground/2022_pdf/Mustang Panda Uses the Russian-Ukrainian War to Attack Europe and Asia Pacific Targets.pdf\n",
      "Processing C:/Users/spdlq/Documents/my_code/ttp_autogpt/python_ground/2022_pdf/Mustang Panda’s Hodur_ Old tricks, new Korplug variant _ WeLiveSecurity.pdf...\n",
      "Finished processing C:/Users/spdlq/Documents/my_code/ttp_autogpt/python_ground/2022_pdf/Mustang Panda’s Hodur_ Old tricks, new Korplug variant _ WeLiveSecurity.pdf\n",
      "Processing C:/Users/spdlq/Documents/my_code/ttp_autogpt/python_ground/2022_pdf/New Milestones for Deep Panda_ Log4Shell and Digitally Signed Fire Chili Rootkits.pdf...\n",
      "Finished processing C:/Users/spdlq/Documents/my_code/ttp_autogpt/python_ground/2022_pdf/New Milestones for Deep Panda_ Log4Shell and Digitally Signed Fire Chili Rootkits.pdf\n",
      "Processing C:/Users/spdlq/Documents/my_code/ttp_autogpt/python_ground/2022_pdf/New RURansom Wiper Targets Russia.pdf...\n",
      "Finished processing C:/Users/spdlq/Documents/my_code/ttp_autogpt/python_ground/2022_pdf/New RURansom Wiper Targets Russia.pdf\n",
      "Processing C:/Users/spdlq/Documents/my_code/ttp_autogpt/python_ground/2022_pdf/North Korea's Lazarus APT leverages Windows Update client, GitHub in latest campaign _ Malwarebytes Labs.pdf...\n",
      "Finished processing C:/Users/spdlq/Documents/my_code/ttp_autogpt/python_ground/2022_pdf/North Korea's Lazarus APT leverages Windows Update client, GitHub in latest campaign _ Malwarebytes Labs.pdf\n",
      "Processing C:/Users/spdlq/Documents/my_code/ttp_autogpt/python_ground/2022_pdf/Old cat, new tricks, bad habits.pdf...\n",
      "Finished processing C:/Users/spdlq/Documents/my_code/ttp_autogpt/python_ground/2022_pdf/Old cat, new tricks, bad habits.pdf\n",
      "Processing C:/Users/spdlq/Documents/my_code/ttp_autogpt/python_ground/2022_pdf/Patchwork_Patchwork-APT-caught-in-its-own-web_MalwarebytesLabs.pdf...\n",
      "Finished processing C:/Users/spdlq/Documents/my_code/ttp_autogpt/python_ground/2022_pdf/Patchwork_Patchwork-APT-caught-in-its-own-web_MalwarebytesLabs.pdf\n",
      "Processing C:/Users/spdlq/Documents/my_code/ttp_autogpt/python_ground/2022_pdf/PowerLess Trojan_ Iranian APT Phosphorus Adds New PowerShell Backdoor for Espionage.pdf...\n",
      "Finished processing C:/Users/spdlq/Documents/my_code/ttp_autogpt/python_ground/2022_pdf/PowerLess Trojan_ Iranian APT Phosphorus Adds New PowerShell Backdoor for Espionage.pdf\n",
      "Processing C:/Users/spdlq/Documents/my_code/ttp_autogpt/python_ground/2022_pdf/Prime Minister’s Office Compromised_ Details of Recent Espionage Campaign.pdf...\n",
      "Finished processing C:/Users/spdlq/Documents/my_code/ttp_autogpt/python_ground/2022_pdf/Prime Minister’s Office Compromised_ Details of Recent Espionage Campaign.pdf\n",
      "Processing C:/Users/spdlq/Documents/my_code/ttp_autogpt/python_ground/2022_pdf/RomCom Threat Actor Abuses KeePass and SolarWinds to Target Ukraine and Potentially the United Kingdom.pdf...\n",
      "Finished processing C:/Users/spdlq/Documents/my_code/ttp_autogpt/python_ground/2022_pdf/RomCom Threat Actor Abuses KeePass and SolarWinds to Target Ukraine and Potentially the United Kingdom.pdf\n",
      "Processing C:/Users/spdlq/Documents/my_code/ttp_autogpt/python_ground/2022_pdf/ShadowPad Malware Analysis _ Secureworks.pdf...\n",
      "Finished processing C:/Users/spdlq/Documents/my_code/ttp_autogpt/python_ground/2022_pdf/ShadowPad Malware Analysis _ Secureworks.pdf\n",
      "Processing C:/Users/spdlq/Documents/my_code/ttp_autogpt/python_ground/2022_pdf/Shuckworm_APT.pdf...\n",
      "Finished processing C:/Users/spdlq/Documents/my_code/ttp_autogpt/python_ground/2022_pdf/Shuckworm_APT.pdf\n",
      "Processing C:/Users/spdlq/Documents/my_code/ttp_autogpt/python_ground/2022_pdf/Sygnia- Elephant Beetle_Jan2022.pdf...\n",
      "Finished processing C:/Users/spdlq/Documents/my_code/ttp_autogpt/python_ground/2022_pdf/Sygnia- Elephant Beetle_Jan2022.pdf\n",
      "Processing C:/Users/spdlq/Documents/my_code/ttp_autogpt/python_ground/2022_pdf/ta-2022-0406.pdf...\n",
      "Finished processing C:/Users/spdlq/Documents/my_code/ttp_autogpt/python_ground/2022_pdf/ta-2022-0406.pdf\n",
      "Processing C:/Users/spdlq/Documents/my_code/ttp_autogpt/python_ground/2022_pdf/ta-2022-0928.pdf...\n",
      "Finished processing C:/Users/spdlq/Documents/my_code/ttp_autogpt/python_ground/2022_pdf/ta-2022-0928.pdf\n",
      "Processing C:/Users/spdlq/Documents/my_code/ttp_autogpt/python_ground/2022_pdf/technical-brief-delving-deep-an-analysis-of-earth-lusca-operations.pdf...\n",
      "Finished processing C:/Users/spdlq/Documents/my_code/ttp_autogpt/python_ground/2022_pdf/technical-brief-delving-deep-an-analysis-of-earth-lusca-operations.pdf\n",
      "Processing C:/Users/spdlq/Documents/my_code/ttp_autogpt/python_ground/2022_pdf/telecom_research_en.pdf...\n",
      "Finished processing C:/Users/spdlq/Documents/my_code/ttp_autogpt/python_ground/2022_pdf/telecom_research_en.pdf\n",
      "Processing C:/Users/spdlq/Documents/my_code/ttp_autogpt/python_ground/2022_pdf/The Good, the Bad, and the Web Bug_ TA416 Increases Operational Tempo Against European Governments as Conflict in Ukraine Escalates _ Proofpoint US.pdf...\n",
      "Finished processing C:/Users/spdlq/Documents/my_code/ttp_autogpt/python_ground/2022_pdf/The Good, the Bad, and the Web Bug_ TA416 Increases Operational Tempo Against European Governments as Conflict in Ukraine Escalates _ Proofpoint US.pdf\n",
      "Processing C:/Users/spdlq/Documents/my_code/ttp_autogpt/python_ground/2022_pdf/The_Bvp47_a_top-tier_backdoor_of_us_nsa_equation_group.en.pdf...\n",
      "Finished processing C:/Users/spdlq/Documents/my_code/ttp_autogpt/python_ground/2022_pdf/The_Bvp47_a_top-tier_backdoor_of_us_nsa_equation_group.en.pdf\n",
      "Processing C:/Users/spdlq/Documents/my_code/ttp_autogpt/python_ground/2022_pdf/Threat Thursday_ Malware Rebooted - How Industroyer2 Takes Aim at Ukraine Infrastructure.pdf...\n",
      "Finished processing C:/Users/spdlq/Documents/my_code/ttp_autogpt/python_ground/2022_pdf/Threat Thursday_ Malware Rebooted - How Industroyer2 Takes Aim at Ukraine Infrastructure.pdf\n",
      "Processing C:/Users/spdlq/Documents/my_code/ttp_autogpt/python_ground/2022_pdf/ToddyCat_ Unveiling an unknown APT actor attacking high-profile entities in Europe and Asia _ Securelist.pdf...\n",
      "Finished processing C:/Users/spdlq/Documents/my_code/ttp_autogpt/python_ground/2022_pdf/ToddyCat_ Unveiling an unknown APT actor attacking high-profile entities in Europe and Asia _ Securelist.pdf\n",
      "Processing C:/Users/spdlq/Documents/my_code/ttp_autogpt/python_ground/2022_pdf/Twisted Panda_ Chinese APT espionage operation against Russian’s state-owned defense institutes - Check Point Research.pdf...\n",
      "Finished processing C:/Users/spdlq/Documents/my_code/ttp_autogpt/python_ground/2022_pdf/Twisted Panda_ Chinese APT espionage operation against Russian’s state-owned defense institutes - Check Point Research.pdf\n",
      "Processing C:/Users/spdlq/Documents/my_code/ttp_autogpt/python_ground/2022_pdf/UNC3524_ Eye Spy on Your Email _ Mandiant.pdf...\n",
      "Finished processing C:/Users/spdlq/Documents/my_code/ttp_autogpt/python_ground/2022_pdf/UNC3524_ Eye Spy on Your Email _ Mandiant.pdf\n",
      "Processing C:/Users/spdlq/Documents/my_code/ttp_autogpt/python_ground/2022_pdf/VB2022-Exploit-archaeology-a-forensic-history-of-in-the-wild-NSO-Group-exploits.pdf...\n",
      "Finished processing C:/Users/spdlq/Documents/my_code/ttp_autogpt/python_ground/2022_pdf/VB2022-Exploit-archaeology-a-forensic-history-of-in-the-wild-NSO-Group-exploits.pdf\n",
      "Processing C:/Users/spdlq/Documents/my_code/ttp_autogpt/python_ground/2022_pdf/WinDealer dealing on the side _ Securelist.pdf...\n",
      "Finished processing C:/Users/spdlq/Documents/my_code/ttp_autogpt/python_ground/2022_pdf/WinDealer dealing on the side _ Securelist.pdf\n",
      "Processing C:/Users/spdlq/Documents/my_code/ttp_autogpt/python_ground/2022_pdf/wp-the-rise-of-earth-aughisky.pdf...\n",
      "Finished processing C:/Users/spdlq/Documents/my_code/ttp_autogpt/python_ground/2022_pdf/wp-the-rise-of-earth-aughisky.pdf\n"
     ]
    }
   ],
   "source": [
    "for pdf_file in pdf_files:\n",
    "    print(f\"Processing {pdf_file}...\")\n",
    "    text = extract_text_from_pdf(pdf_file)\n",
    "    output_file = winTxtPath + os.path.basename(os.path.splitext(pdf_file)[0]) + '.txt'\n",
    "    save_text_to_file(text, output_file)\n",
    "    print(f\"Finished processing {pdf_file}\")"
   ]
  },
  {
   "cell_type": "code",
   "execution_count": null,
   "metadata": {},
   "outputs": [],
   "source": []
  }
 ],
 "metadata": {
  "kernelspec": {
   "display_name": "Python 3",
   "language": "python",
   "name": "python3"
  },
  "language_info": {
   "codemirror_mode": {
    "name": "ipython",
    "version": 3
   },
   "file_extension": ".py",
   "mimetype": "text/x-python",
   "name": "python",
   "nbconvert_exporter": "python",
   "pygments_lexer": "ipython3",
   "version": "3.11.4"
  },
  "orig_nbformat": 4
 },
 "nbformat": 4,
 "nbformat_minor": 2
}

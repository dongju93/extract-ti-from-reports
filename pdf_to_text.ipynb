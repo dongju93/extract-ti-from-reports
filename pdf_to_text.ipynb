{
 "cells": [
  {
   "cell_type": "code",
   "execution_count": 1,
   "metadata": {},
   "outputs": [],
   "source": [
    "import os\n",
    "from pdfminer.high_level import extract_text"
   ]
  },
  {
   "cell_type": "code",
   "execution_count": 2,
   "metadata": {},
   "outputs": [],
   "source": [
    "def list_pdf_files(directory_path):\n",
    "    pdf_files = []\n",
    "    for root, dirs, files in os.walk(directory_path):\n",
    "        for file in files:\n",
    "            if file.endswith('.pdf'):\n",
    "                pdf_files.append(os.path.join(root, file))\n",
    "    return pdf_files"
   ]
  },
  {
   "cell_type": "code",
   "execution_count": 3,
   "metadata": {},
   "outputs": [],
   "source": [
    "def extract_text_from_pdf(file_path):\n",
    "    try:\n",
    "        text = extract_text(file_path)\n",
    "    except Exception as e:\n",
    "        print(f\"Error processing {file_path}: {e}\")\n",
    "        text = \"Error occurred while extracting text\"\n",
    "    return text"
   ]
  },
  {
   "cell_type": "code",
   "execution_count": 4,
   "metadata": {},
   "outputs": [],
   "source": [
    "def save_text_to_file(text, output_path):\n",
    "    with open(output_path, 'w', encoding='utf-8') as file:\n",
    "        file.write(text)"
   ]
  },
  {
   "cell_type": "code",
   "execution_count": 5,
   "metadata": {},
   "outputs": [],
   "source": [
    "winPdfPath = 'C:/Users/spdlq/Documents/my_code/ttp_autogpt/python_ground/2022_pdf/'\n",
    "macPdfPath = ''\n",
    "winTxtPath = 'C:/Users/spdlq/Documents/my_code/ttp_autogpt/python_ground/2022_text/'\n",
    "macTxtPath = ''"
   ]
  },
  {
   "cell_type": "code",
   "execution_count": 6,
   "metadata": {},
   "outputs": [],
   "source": [
    "directory_path = winPdfPath"
   ]
  },
  {
   "cell_type": "code",
   "execution_count": 7,
   "metadata": {},
   "outputs": [],
   "source": [
    "pdf_files = list_pdf_files(directory_path)"
   ]
  },
  {
   "cell_type": "code",
   "execution_count": 8,
   "metadata": {},
   "outputs": [
    {
     "name": "stdout",
     "output_type": "stream",
     "text": [
      "Processing C:/Users/spdlq/Documents/my_code/ttp_autogpt/python_ground/2022_pdf\\(Ex)Change of Pace_ UNC2596 Observed Leveraging Vulnerabilities to Deploy Cuba Ransomware _ Mandiant.pdf...\n",
      "Finished processing C:/Users/spdlq/Documents/my_code/ttp_autogpt/python_ground/2022_pdf\\(Ex)Change of Pace_ UNC2596 Observed Leveraging Vulnerabilities to Deploy Cuba Ransomware _ Mandiant.pdf\n",
      "Processing C:/Users/spdlq/Documents/my_code/ttp_autogpt/python_ground/2022_pdf\\Antlion_ Chinese APT Uses Custom Backdoor to Target Financial Institutions in Taiwan _ Symantec Blogs.pdf...\n",
      "Finished processing C:/Users/spdlq/Documents/my_code/ttp_autogpt/python_ground/2022_pdf\\Antlion_ Chinese APT Uses Custom Backdoor to Target Financial Institutions in Taiwan _ Symantec Blogs.pdf\n",
      "Processing C:/Users/spdlq/Documents/my_code/ttp_autogpt/python_ground/2022_pdf\\Appendix_Cyclops Blink Sets Sights on ASUS Routers.pdf...\n",
      "Finished processing C:/Users/spdlq/Documents/my_code/ttp_autogpt/python_ground/2022_pdf\\Appendix_Cyclops Blink Sets Sights on ASUS Routers.pdf\n",
      "Processing C:/Users/spdlq/Documents/my_code/ttp_autogpt/python_ground/2022_pdf\\APT29_StellarParticle-Campaing_CrowdStrike.pdf...\n",
      "Finished processing C:/Users/spdlq/Documents/my_code/ttp_autogpt/python_ground/2022_pdf\\APT29_StellarParticle-Campaing_CrowdStrike.pdf\n",
      "Processing C:/Users/spdlq/Documents/my_code/ttp_autogpt/python_ground/2022_pdf\\Asylum Ambuscade_ State Actor Uses Compromised Private Ukrainian Military Emails to Target European Governments and Refugee Movement _ Proofpoint US.pdf...\n",
      "Finished processing C:/Users/spdlq/Documents/my_code/ttp_autogpt/python_ground/2022_pdf\\Asylum Ambuscade_ State Actor Uses Compromised Private Ukrainian Military Emails to Target European Governments and Refugee Movement _ Proofpoint US.pdf\n",
      "Processing C:/Users/spdlq/Documents/my_code/ttp_autogpt/python_ground/2022_pdf\\Attacks on industrial control systems using ShadowPad _ Kaspersky ICS CERT.pdf...\n",
      "Finished processing C:/Users/spdlq/Documents/my_code/ttp_autogpt/python_ground/2022_pdf\\Attacks on industrial control systems using ShadowPad _ Kaspersky ICS CERT.pdf\n",
      "Processing C:/Users/spdlq/Documents/my_code/ttp_autogpt/python_ground/2022_pdf\\Blowing Cobalt Strike Out of the Water With Memory Analysis.pdf...\n",
      "Finished processing C:/Users/spdlq/Documents/my_code/ttp_autogpt/python_ground/2022_pdf\\Blowing Cobalt Strike Out of the Water With Memory Analysis.pdf\n",
      "Processing C:/Users/spdlq/Documents/my_code/ttp_autogpt/python_ground/2022_pdf\\BRONZE PRESIDENT Targets Government Officials _ Secureworks.pdf...\n",
      "Finished processing C:/Users/spdlq/Documents/my_code/ttp_autogpt/python_ground/2022_pdf\\BRONZE PRESIDENT Targets Government Officials _ Secureworks.pdf\n",
      "Processing C:/Users/spdlq/Documents/my_code/ttp_autogpt/python_ground/2022_pdf\\Cisco Talos Intelligence Group - Comprehensive Threat Intelligence_ Bitter APT adds Bangladesh to their targets.pdf...\n",
      "Finished processing C:/Users/spdlq/Documents/my_code/ttp_autogpt/python_ground/2022_pdf\\Cisco Talos Intelligence Group - Comprehensive Threat Intelligence_ Bitter APT adds Bangladesh to their targets.pdf\n",
      "Processing C:/Users/spdlq/Documents/my_code/ttp_autogpt/python_ground/2022_pdf\\Cisco Talos Intelligence Group - Comprehensive Threat Intelligence_ Iranian APT MuddyWater targets Turkish users via malicious PDFs, executables.pdf...\n",
      "Finished processing C:/Users/spdlq/Documents/my_code/ttp_autogpt/python_ground/2022_pdf\\Cisco Talos Intelligence Group - Comprehensive Threat Intelligence_ Iranian APT MuddyWater targets Turkish users via malicious PDFs, executables.pdf\n",
      "Processing C:/Users/spdlq/Documents/my_code/ttp_autogpt/python_ground/2022_pdf\\Cisco Talos Intelligence Group - Comprehensive Threat Intelligence_ Mustang Panda deploys a new wave of malware targeting Europe.pdf...\n",
      "Finished processing C:/Users/spdlq/Documents/my_code/ttp_autogpt/python_ground/2022_pdf\\Cisco Talos Intelligence Group - Comprehensive Threat Intelligence_ Mustang Panda deploys a new wave of malware targeting Europe.pdf\n",
      "Processing C:/Users/spdlq/Documents/my_code/ttp_autogpt/python_ground/2022_pdf\\CosmicStrand_ the discovery of a sophisticated UEFI firmware rootkit _ Securelist.pdf...\n",
      "Finished processing C:/Users/spdlq/Documents/my_code/ttp_autogpt/python_ground/2022_pdf\\CosmicStrand_ the discovery of a sophisticated UEFI firmware rootkit _ Securelist.pdf\n",
      "Processing C:/Users/spdlq/Documents/my_code/ttp_autogpt/python_ground/2022_pdf\\Cyclops Blink Sets Sights on Asus Routers.pdf...\n",
      "Finished processing C:/Users/spdlq/Documents/my_code/ttp_autogpt/python_ground/2022_pdf\\Cyclops Blink Sets Sights on Asus Routers.pdf\n",
      "Processing C:/Users/spdlq/Documents/my_code/ttp_autogpt/python_ground/2022_pdf\\Internet Explorer 0-day exploited by North Korean actor APT37.pdf...\n",
      "Finished processing C:/Users/spdlq/Documents/my_code/ttp_autogpt/python_ground/2022_pdf\\Internet Explorer 0-day exploited by North Korean actor APT37.pdf\n",
      "Processing C:/Users/spdlq/Documents/my_code/ttp_autogpt/python_ground/2022_pdf\\IOCs-the-rise-of-earth-aughisky-tracking-the-campaigns-taidoor-started.pdf...\n",
      "Finished processing C:/Users/spdlq/Documents/my_code/ttp_autogpt/python_ground/2022_pdf\\IOCs-the-rise-of-earth-aughisky-tracking-the-campaigns-taidoor-started.pdf\n",
      "Processing C:/Users/spdlq/Documents/my_code/ttp_autogpt/python_ground/2022_pdf\\Iron Tiger Compromises Chat Application Mimi, Targets Windows, Mac, and Linux Users.pdf...\n",
      "Finished processing C:/Users/spdlq/Documents/my_code/ttp_autogpt/python_ground/2022_pdf\\Iron Tiger Compromises Chat Application Mimi, Targets Windows, Mac, and Linux Users.pdf\n",
      "Processing C:/Users/spdlq/Documents/my_code/ttp_autogpt/python_ground/2022_pdf\\Konni_targeting_Russian_diplomatic_sector.pdf...\n",
      "Finished processing C:/Users/spdlq/Documents/my_code/ttp_autogpt/python_ground/2022_pdf\\Konni_targeting_Russian_diplomatic_sector.pdf\n",
      "Processing C:/Users/spdlq/Documents/my_code/ttp_autogpt/python_ground/2022_pdf\\LuckyMouse uses a backdoored Electron app to target MacOS - SEKOIA.IO Blog.pdf...\n",
      "Finished processing C:/Users/spdlq/Documents/my_code/ttp_autogpt/python_ground/2022_pdf\\LuckyMouse uses a backdoored Electron app to target MacOS - SEKOIA.IO Blog.pdf\n",
      "Processing C:/Users/spdlq/Documents/my_code/ttp_autogpt/python_ground/2022_pdf\\Message from Recorded Future.pdf...\n",
      "Finished processing C:/Users/spdlq/Documents/my_code/ttp_autogpt/python_ground/2022_pdf\\Message from Recorded Future.pdf\n",
      "Processing C:/Users/spdlq/Documents/my_code/ttp_autogpt/python_ground/2022_pdf\\MoonBounce_ the dark side of UEFI firmware _ Securelist.pdf...\n",
      "Finished processing C:/Users/spdlq/Documents/my_code/ttp_autogpt/python_ground/2022_pdf\\MoonBounce_ the dark side of UEFI firmware _ Securelist.pdf\n",
      "Processing C:/Users/spdlq/Documents/my_code/ttp_autogpt/python_ground/2022_pdf\\Mustang Panda Abuses Legitimate Apps to Target Myanmar Based Victims.pdf...\n",
      "Finished processing C:/Users/spdlq/Documents/my_code/ttp_autogpt/python_ground/2022_pdf\\Mustang Panda Abuses Legitimate Apps to Target Myanmar Based Victims.pdf\n",
      "Processing C:/Users/spdlq/Documents/my_code/ttp_autogpt/python_ground/2022_pdf\\Mustang Panda Uses the Russian-Ukrainian War to Attack Europe and Asia Pacific Targets.pdf...\n",
      "Finished processing C:/Users/spdlq/Documents/my_code/ttp_autogpt/python_ground/2022_pdf\\Mustang Panda Uses the Russian-Ukrainian War to Attack Europe and Asia Pacific Targets.pdf\n",
      "Processing C:/Users/spdlq/Documents/my_code/ttp_autogpt/python_ground/2022_pdf\\Mustang Panda’s Hodur_ Old tricks, new Korplug variant _ WeLiveSecurity.pdf...\n",
      "Finished processing C:/Users/spdlq/Documents/my_code/ttp_autogpt/python_ground/2022_pdf\\Mustang Panda’s Hodur_ Old tricks, new Korplug variant _ WeLiveSecurity.pdf\n",
      "Processing C:/Users/spdlq/Documents/my_code/ttp_autogpt/python_ground/2022_pdf\\New Milestones for Deep Panda_ Log4Shell and Digitally Signed Fire Chili Rootkits.pdf...\n",
      "Finished processing C:/Users/spdlq/Documents/my_code/ttp_autogpt/python_ground/2022_pdf\\New Milestones for Deep Panda_ Log4Shell and Digitally Signed Fire Chili Rootkits.pdf\n",
      "Processing C:/Users/spdlq/Documents/my_code/ttp_autogpt/python_ground/2022_pdf\\New RURansom Wiper Targets Russia.pdf...\n",
      "Finished processing C:/Users/spdlq/Documents/my_code/ttp_autogpt/python_ground/2022_pdf\\New RURansom Wiper Targets Russia.pdf\n",
      "Processing C:/Users/spdlq/Documents/my_code/ttp_autogpt/python_ground/2022_pdf\\North Korea's Lazarus APT leverages Windows Update client, GitHub in latest campaign _ Malwarebytes Labs.pdf...\n",
      "Finished processing C:/Users/spdlq/Documents/my_code/ttp_autogpt/python_ground/2022_pdf\\North Korea's Lazarus APT leverages Windows Update client, GitHub in latest campaign _ Malwarebytes Labs.pdf\n",
      "Processing C:/Users/spdlq/Documents/my_code/ttp_autogpt/python_ground/2022_pdf\\Old cat, new tricks, bad habits.pdf...\n",
      "Finished processing C:/Users/spdlq/Documents/my_code/ttp_autogpt/python_ground/2022_pdf\\Old cat, new tricks, bad habits.pdf\n",
      "Processing C:/Users/spdlq/Documents/my_code/ttp_autogpt/python_ground/2022_pdf\\Patchwork_Patchwork-APT-caught-in-its-own-web_MalwarebytesLabs.pdf...\n",
      "Finished processing C:/Users/spdlq/Documents/my_code/ttp_autogpt/python_ground/2022_pdf\\Patchwork_Patchwork-APT-caught-in-its-own-web_MalwarebytesLabs.pdf\n",
      "Processing C:/Users/spdlq/Documents/my_code/ttp_autogpt/python_ground/2022_pdf\\PowerLess Trojan_ Iranian APT Phosphorus Adds New PowerShell Backdoor for Espionage.pdf...\n",
      "Finished processing C:/Users/spdlq/Documents/my_code/ttp_autogpt/python_ground/2022_pdf\\PowerLess Trojan_ Iranian APT Phosphorus Adds New PowerShell Backdoor for Espionage.pdf\n",
      "Processing C:/Users/spdlq/Documents/my_code/ttp_autogpt/python_ground/2022_pdf\\Prime Minister’s Office Compromised_ Details of Recent Espionage Campaign.pdf...\n",
      "Finished processing C:/Users/spdlq/Documents/my_code/ttp_autogpt/python_ground/2022_pdf\\Prime Minister’s Office Compromised_ Details of Recent Espionage Campaign.pdf\n",
      "Processing C:/Users/spdlq/Documents/my_code/ttp_autogpt/python_ground/2022_pdf\\RomCom Threat Actor Abuses KeePass and SolarWinds to Target Ukraine and Potentially the United Kingdom.pdf...\n",
      "Finished processing C:/Users/spdlq/Documents/my_code/ttp_autogpt/python_ground/2022_pdf\\RomCom Threat Actor Abuses KeePass and SolarWinds to Target Ukraine and Potentially the United Kingdom.pdf\n",
      "Processing C:/Users/spdlq/Documents/my_code/ttp_autogpt/python_ground/2022_pdf\\ShadowPad Malware Analysis _ Secureworks.pdf...\n",
      "Finished processing C:/Users/spdlq/Documents/my_code/ttp_autogpt/python_ground/2022_pdf\\ShadowPad Malware Analysis _ Secureworks.pdf\n",
      "Processing C:/Users/spdlq/Documents/my_code/ttp_autogpt/python_ground/2022_pdf\\Shuckworm_APT.pdf...\n",
      "Finished processing C:/Users/spdlq/Documents/my_code/ttp_autogpt/python_ground/2022_pdf\\Shuckworm_APT.pdf\n",
      "Processing C:/Users/spdlq/Documents/my_code/ttp_autogpt/python_ground/2022_pdf\\Sygnia- Elephant Beetle_Jan2022.pdf...\n",
      "Finished processing C:/Users/spdlq/Documents/my_code/ttp_autogpt/python_ground/2022_pdf\\Sygnia- Elephant Beetle_Jan2022.pdf\n",
      "Processing C:/Users/spdlq/Documents/my_code/ttp_autogpt/python_ground/2022_pdf\\ta-2022-0406.pdf...\n"
     ]
    },
    {
     "ename": "KeyboardInterrupt",
     "evalue": "",
     "output_type": "error",
     "traceback": [
      "\u001b[1;31m---------------------------------------------------------------------------\u001b[0m",
      "\u001b[1;31mKeyboardInterrupt\u001b[0m                         Traceback (most recent call last)",
      "Cell \u001b[1;32mIn[8], line 3\u001b[0m\n\u001b[0;32m      1\u001b[0m \u001b[39mfor\u001b[39;00m pdf_file \u001b[39min\u001b[39;00m pdf_files:\n\u001b[0;32m      2\u001b[0m     \u001b[39mprint\u001b[39m(\u001b[39mf\u001b[39m\u001b[39m\"\u001b[39m\u001b[39mProcessing \u001b[39m\u001b[39m{\u001b[39;00mpdf_file\u001b[39m}\u001b[39;00m\u001b[39m...\u001b[39m\u001b[39m\"\u001b[39m)\n\u001b[1;32m----> 3\u001b[0m     text \u001b[39m=\u001b[39m extract_text_from_pdf(pdf_file)\n\u001b[0;32m      4\u001b[0m     output_file \u001b[39m=\u001b[39m winTxtPath \u001b[39m+\u001b[39m os\u001b[39m.\u001b[39mpath\u001b[39m.\u001b[39mbasename(os\u001b[39m.\u001b[39mpath\u001b[39m.\u001b[39msplitext(pdf_file)[\u001b[39m0\u001b[39m]) \u001b[39m+\u001b[39m \u001b[39m'\u001b[39m\u001b[39m.txt\u001b[39m\u001b[39m'\u001b[39m\n\u001b[0;32m      5\u001b[0m     save_text_to_file(text, output_file)\n",
      "Cell \u001b[1;32mIn[3], line 3\u001b[0m, in \u001b[0;36mextract_text_from_pdf\u001b[1;34m(file_path)\u001b[0m\n\u001b[0;32m      1\u001b[0m \u001b[39mdef\u001b[39;00m \u001b[39mextract_text_from_pdf\u001b[39m(file_path):\n\u001b[0;32m      2\u001b[0m     \u001b[39mtry\u001b[39;00m:\n\u001b[1;32m----> 3\u001b[0m         text \u001b[39m=\u001b[39m extract_text(file_path)\n\u001b[0;32m      4\u001b[0m     \u001b[39mexcept\u001b[39;00m \u001b[39mException\u001b[39;00m \u001b[39mas\u001b[39;00m e:\n\u001b[0;32m      5\u001b[0m         \u001b[39mprint\u001b[39m(\u001b[39mf\u001b[39m\u001b[39m\"\u001b[39m\u001b[39mError processing \u001b[39m\u001b[39m{\u001b[39;00mfile_path\u001b[39m}\u001b[39;00m\u001b[39m: \u001b[39m\u001b[39m{\u001b[39;00me\u001b[39m}\u001b[39;00m\u001b[39m\"\u001b[39m)\n",
      "File \u001b[1;32mc:\\Users\\spdlq\\AppData\\Local\\Programs\\Python\\Python311\\Lib\\site-packages\\pdfminer\\high_level.py:175\u001b[0m, in \u001b[0;36mextract_text\u001b[1;34m(pdf_file, password, page_numbers, maxpages, caching, codec, laparams)\u001b[0m\n\u001b[0;32m    166\u001b[0m interpreter \u001b[39m=\u001b[39m PDFPageInterpreter(rsrcmgr, device)\n\u001b[0;32m    168\u001b[0m \u001b[39mfor\u001b[39;00m page \u001b[39min\u001b[39;00m PDFPage\u001b[39m.\u001b[39mget_pages(\n\u001b[0;32m    169\u001b[0m     fp,\n\u001b[0;32m    170\u001b[0m     page_numbers,\n\u001b[1;32m   (...)\u001b[0m\n\u001b[0;32m    173\u001b[0m     caching\u001b[39m=\u001b[39mcaching,\n\u001b[0;32m    174\u001b[0m ):\n\u001b[1;32m--> 175\u001b[0m     interpreter\u001b[39m.\u001b[39;49mprocess_page(page)\n\u001b[0;32m    177\u001b[0m \u001b[39mreturn\u001b[39;00m output_string\u001b[39m.\u001b[39mgetvalue()\n",
      "File \u001b[1;32mc:\\Users\\spdlq\\AppData\\Local\\Programs\\Python\\Python311\\Lib\\site-packages\\pdfminer\\pdfinterp.py:997\u001b[0m, in \u001b[0;36mPDFPageInterpreter.process_page\u001b[1;34m(self, page)\u001b[0m\n\u001b[0;32m    995\u001b[0m     ctm \u001b[39m=\u001b[39m (\u001b[39m1\u001b[39m, \u001b[39m0\u001b[39m, \u001b[39m0\u001b[39m, \u001b[39m1\u001b[39m, \u001b[39m-\u001b[39mx0, \u001b[39m-\u001b[39my0)\n\u001b[0;32m    996\u001b[0m \u001b[39mself\u001b[39m\u001b[39m.\u001b[39mdevice\u001b[39m.\u001b[39mbegin_page(page, ctm)\n\u001b[1;32m--> 997\u001b[0m \u001b[39mself\u001b[39;49m\u001b[39m.\u001b[39;49mrender_contents(page\u001b[39m.\u001b[39;49mresources, page\u001b[39m.\u001b[39;49mcontents, ctm\u001b[39m=\u001b[39;49mctm)\n\u001b[0;32m    998\u001b[0m \u001b[39mself\u001b[39m\u001b[39m.\u001b[39mdevice\u001b[39m.\u001b[39mend_page(page)\n\u001b[0;32m    999\u001b[0m \u001b[39mreturn\u001b[39;00m\n",
      "File \u001b[1;32mc:\\Users\\spdlq\\AppData\\Local\\Programs\\Python\\Python311\\Lib\\site-packages\\pdfminer\\pdfinterp.py:1016\u001b[0m, in \u001b[0;36mPDFPageInterpreter.render_contents\u001b[1;34m(self, resources, streams, ctm)\u001b[0m\n\u001b[0;32m   1014\u001b[0m \u001b[39mself\u001b[39m\u001b[39m.\u001b[39minit_resources(resources)\n\u001b[0;32m   1015\u001b[0m \u001b[39mself\u001b[39m\u001b[39m.\u001b[39minit_state(ctm)\n\u001b[1;32m-> 1016\u001b[0m \u001b[39mself\u001b[39;49m\u001b[39m.\u001b[39;49mexecute(list_value(streams))\n\u001b[0;32m   1017\u001b[0m \u001b[39mreturn\u001b[39;00m\n",
      "File \u001b[1;32mc:\\Users\\spdlq\\AppData\\Local\\Programs\\Python\\Python311\\Lib\\site-packages\\pdfminer\\pdfinterp.py:1027\u001b[0m, in \u001b[0;36mPDFPageInterpreter.execute\u001b[1;34m(self, streams)\u001b[0m\n\u001b[0;32m   1025\u001b[0m \u001b[39mwhile\u001b[39;00m \u001b[39m1\u001b[39m:\n\u001b[0;32m   1026\u001b[0m     \u001b[39mtry\u001b[39;00m:\n\u001b[1;32m-> 1027\u001b[0m         (_, obj) \u001b[39m=\u001b[39m parser\u001b[39m.\u001b[39;49mnextobject()\n\u001b[0;32m   1028\u001b[0m     \u001b[39mexcept\u001b[39;00m PSEOF:\n\u001b[0;32m   1029\u001b[0m         \u001b[39mbreak\u001b[39;00m\n",
      "File \u001b[1;32mc:\\Users\\spdlq\\AppData\\Local\\Programs\\Python\\Python311\\Lib\\site-packages\\pdfminer\\psparser.py:609\u001b[0m, in \u001b[0;36mPSStackParser.nextobject\u001b[1;34m(self)\u001b[0m\n\u001b[0;32m    601\u001b[0m \u001b[39m\u001b[39m\u001b[39m\"\"\"Yields a list of objects.\u001b[39;00m\n\u001b[0;32m    602\u001b[0m \n\u001b[0;32m    603\u001b[0m \u001b[39mArrays and dictionaries are represented as Python lists and\u001b[39;00m\n\u001b[1;32m   (...)\u001b[0m\n\u001b[0;32m    606\u001b[0m \u001b[39m:return: keywords, literals, strings, numbers, arrays and dictionaries.\u001b[39;00m\n\u001b[0;32m    607\u001b[0m \u001b[39m\"\"\"\u001b[39;00m\n\u001b[0;32m    608\u001b[0m \u001b[39mwhile\u001b[39;00m \u001b[39mnot\u001b[39;00m \u001b[39mself\u001b[39m\u001b[39m.\u001b[39mresults:\n\u001b[1;32m--> 609\u001b[0m     (pos, token) \u001b[39m=\u001b[39m \u001b[39mself\u001b[39;49m\u001b[39m.\u001b[39;49mnexttoken()\n\u001b[0;32m    610\u001b[0m     \u001b[39mif\u001b[39;00m \u001b[39misinstance\u001b[39m(token, (\u001b[39mint\u001b[39m, \u001b[39mfloat\u001b[39m, \u001b[39mbool\u001b[39m, \u001b[39mstr\u001b[39m, \u001b[39mbytes\u001b[39m, PSLiteral)):\n\u001b[0;32m    611\u001b[0m         \u001b[39m# normal token\u001b[39;00m\n\u001b[0;32m    612\u001b[0m         \u001b[39mself\u001b[39m\u001b[39m.\u001b[39mpush((pos, token))\n",
      "File \u001b[1;32mc:\\Users\\spdlq\\AppData\\Local\\Programs\\Python\\Python311\\Lib\\site-packages\\pdfminer\\psparser.py:527\u001b[0m, in \u001b[0;36mPSBaseParser.nexttoken\u001b[1;34m(self)\u001b[0m\n\u001b[0;32m    525\u001b[0m \u001b[39mwhile\u001b[39;00m \u001b[39mnot\u001b[39;00m \u001b[39mself\u001b[39m\u001b[39m.\u001b[39m_tokens:\n\u001b[0;32m    526\u001b[0m     \u001b[39mself\u001b[39m\u001b[39m.\u001b[39mfillbuf()\n\u001b[1;32m--> 527\u001b[0m     \u001b[39mself\u001b[39m\u001b[39m.\u001b[39mcharpos \u001b[39m=\u001b[39m \u001b[39mself\u001b[39;49m\u001b[39m.\u001b[39;49m_parse1(\u001b[39mself\u001b[39;49m\u001b[39m.\u001b[39;49mbuf, \u001b[39mself\u001b[39;49m\u001b[39m.\u001b[39;49mcharpos)\n\u001b[0;32m    528\u001b[0m token \u001b[39m=\u001b[39m \u001b[39mself\u001b[39m\u001b[39m.\u001b[39m_tokens\u001b[39m.\u001b[39mpop(\u001b[39m0\u001b[39m)\n\u001b[0;32m    529\u001b[0m log\u001b[39m.\u001b[39mdebug(\u001b[39m\"\u001b[39m\u001b[39mnexttoken: \u001b[39m\u001b[39m%r\u001b[39;00m\u001b[39m\"\u001b[39m, token)\n",
      "File \u001b[1;32mc:\\Users\\spdlq\\AppData\\Local\\Programs\\Python\\Python311\\Lib\\site-packages\\pdfminer\\psparser.py:297\u001b[0m, in \u001b[0;36mPSBaseParser._parse_main\u001b[1;34m(self, s, i)\u001b[0m\n\u001b[0;32m    294\u001b[0m             buf \u001b[39m=\u001b[39m \u001b[39mb\u001b[39m\u001b[39m\"\u001b[39m\u001b[39m\"\u001b[39m\n\u001b[0;32m    295\u001b[0m     \u001b[39mreturn\u001b[39;00m\n\u001b[1;32m--> 297\u001b[0m \u001b[39mdef\u001b[39;00m \u001b[39m_parse_main\u001b[39m(\u001b[39mself\u001b[39m, s: \u001b[39mbytes\u001b[39m, i: \u001b[39mint\u001b[39m) \u001b[39m-\u001b[39m\u001b[39m>\u001b[39m \u001b[39mint\u001b[39m:\n\u001b[0;32m    298\u001b[0m     m \u001b[39m=\u001b[39m NONSPC\u001b[39m.\u001b[39msearch(s, i)\n\u001b[0;32m    299\u001b[0m     \u001b[39mif\u001b[39;00m \u001b[39mnot\u001b[39;00m m:\n",
      "\u001b[1;31mKeyboardInterrupt\u001b[0m: "
     ]
    }
   ],
   "source": [
    "for pdf_file in pdf_files:\n",
    "    print(f\"Processing {pdf_file}...\")\n",
    "    text = extract_text_from_pdf(pdf_file)\n",
    "    output_file = winTxtPath + os.path.basename(os.path.splitext(pdf_file)[0]) + '.txt'\n",
    "    save_text_to_file(text, output_file)\n",
    "    print(f\"Finished processing {pdf_file}\")"
   ]
  },
  {
   "cell_type": "code",
   "execution_count": null,
   "metadata": {},
   "outputs": [],
   "source": []
  }
 ],
 "metadata": {
  "kernelspec": {
   "display_name": "Python 3",
   "language": "python",
   "name": "python3"
  },
  "language_info": {
   "codemirror_mode": {
    "name": "ipython",
    "version": 3
   },
   "file_extension": ".py",
   "mimetype": "text/x-python",
   "name": "python",
   "nbconvert_exporter": "python",
   "pygments_lexer": "ipython3",
   "version": "3.11.4"
  },
  "orig_nbformat": 4
 },
 "nbformat": 4,
 "nbformat_minor": 2
}

{
 "cells": [
  {
   "cell_type": "code",
   "execution_count": null,
   "metadata": {},
   "outputs": [],
   "source": [
    "import sys\n",
    "import pandas as pd\n",
    "import os\n",
    "import sys\n",
    "sys.path.append(\"../../../envs\")\n",
    "from env import etas_time_path, ori_path, mod_path, ntfy_nofi"
   ]
  },
  {
   "cell_type": "code",
   "execution_count": null,
   "metadata": {},
   "outputs": [],
   "source": [
    "# HttpThreat TS 2023-06-05T05:31:57.691443314+00:00\n",
    "# DnsCovertChannel TS 2023-06-05T05:29:13.240796101+00:00\n",
    "net_df = pd.read_csv(ori_path+\"event3_logs.csv\", sep='\\t', header=0)"
   ]
  },
  {
   "cell_type": "code",
   "execution_count": null,
   "metadata": {},
   "outputs": [],
   "source": [
    "mask1 = (net_df.user == \"DESKTOP-0FS3LG3\\spdlq\") & ( net_df.source_hostname == \"DESKTOP-0FS3LG3\") & (net_df.destination_port == 80) & (net_df.destination_hostname != \"-\") & (net_df.utc_time == \"2023-08-08 01:53:39.236\")\n",
    "net_fil_df = net_df.loc[mask1,:]\n",
    "\n"
   ]
  },
  {
   "cell_type": "code",
   "execution_count": null,
   "metadata": {},
   "outputs": [],
   "source": [
    "net_fil_df.utc_time = \"2023-06-05 05:31:56.691\"\n",
    "net_fil_df.source_ip = \"129.204.40.54\"\n",
    "net_fil_df.destination_ip = \"218.144.35.150\"\n",
    "net_fil_df.source_port = 14787"
   ]
  },
  {
   "cell_type": "code",
   "execution_count": null,
   "metadata": {},
   "outputs": [],
   "source": [
    "net_fil_df.to_csv(mod_path+'httpThreat_netconn_eve.csv', index=False, sep='\\t')\n",
    "# net_df.loc[:, 'source_hostname']"
   ]
  },
  {
   "cell_type": "code",
   "execution_count": null,
   "metadata": {},
   "outputs": [],
   "source": [
    "# net_df.head()"
   ]
  },
  {
   "cell_type": "code",
   "execution_count": null,
   "metadata": {},
   "outputs": [],
   "source": [
    "# os.system(ntfy_nofi)"
   ]
  },
  {
   "cell_type": "code",
   "execution_count": null,
   "metadata": {},
   "outputs": [],
   "source": []
  }
 ],
 "metadata": {
  "kernelspec": {
   "display_name": "Python 3",
   "language": "python",
   "name": "python3"
  },
  "language_info": {
   "codemirror_mode": {
    "name": "ipython",
    "version": 3
   },
   "file_extension": ".py",
   "mimetype": "text/x-python",
   "name": "python",
   "nbconvert_exporter": "python",
   "pygments_lexer": "ipython3",
   "version": "3.11.3"
  },
  "orig_nbformat": 4
 },
 "nbformat": 4,
 "nbformat_minor": 2
}
